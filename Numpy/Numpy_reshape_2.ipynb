{
 "cells": [
  {
   "cell_type": "code",
   "execution_count": 1,
   "id": "aea170d5-aa9c-4822-9c44-aee73d1a5319",
   "metadata": {},
   "outputs": [],
   "source": [
    "import numpy as np"
   ]
  },
  {
   "cell_type": "markdown",
   "id": "1d16e1cc-e9f7-41ec-a418-8b3e2c81c49c",
   "metadata": {},
   "source": [
    "# Shape"
   ]
  },
  {
   "cell_type": "code",
   "execution_count": 3,
   "id": "97713d79-237c-4888-a319-57c4127031f6",
   "metadata": {},
   "outputs": [
    {
     "name": "stdout",
     "output_type": "stream",
     "text": [
      "[ 1  2  3  4  5  6  7  8  9 10 11 12]\n",
      "shape of array (12,)\n",
      "Dimensions of array is: 1\n"
     ]
    }
   ],
   "source": [
    "a=np.array([1,2,3,4,5,6,7,8,9,10,11,12])\n",
    "print(a)\n",
    "print(\"shape of array\",a.shape)\n",
    "print(\"Dimensions of array is:\",a.ndim)"
   ]
  },
  {
   "cell_type": "code",
   "execution_count": 4,
   "id": "e480fcc7-9aec-4e8b-a9af-43c38afb8a5d",
   "metadata": {},
   "outputs": [
    {
     "data": {
      "text/plain": [
       "12"
      ]
     },
     "execution_count": 4,
     "metadata": {},
     "output_type": "execute_result"
    }
   ],
   "source": [
    "1*12\n",
    "12*1\n",
    "3*4\n",
    "4*3\n",
    "6*2\n",
    "2*6"
   ]
  },
  {
   "cell_type": "code",
   "execution_count": 5,
   "id": "d88f17d7-07b2-4f00-b090-ad52a85dd02e",
   "metadata": {},
   "outputs": [
    {
     "name": "stdout",
     "output_type": "stream",
     "text": [
      "[[ 1  2  3  4]\n",
      " [ 5  6  7  8]\n",
      " [ 9 10 11 12]]\n",
      "shape of array (3, 4)\n",
      "Dimensions of array is: 2\n"
     ]
    }
   ],
   "source": [
    "ar12 = a.reshape(3,4)\n",
    "print(ar12)\n",
    "print(\"shape of array\",ar12.shape)\n",
    "print(\"Dimensions of array is:\",ar12.ndim)"
   ]
  },
  {
   "cell_type": "code",
   "execution_count": 6,
   "id": "007da6d0-e8b5-4272-8702-1c805d2c5386",
   "metadata": {},
   "outputs": [
    {
     "name": "stdout",
     "output_type": "stream",
     "text": [
      "[[ 1  2  3]\n",
      " [ 4  5  6]\n",
      " [ 7  8  9]\n",
      " [10 11 12]]\n",
      "shape of array (4, 3)\n",
      "Dimensions of array is: 2\n"
     ]
    }
   ],
   "source": [
    "ar12 = a.reshape(4,3)\n",
    "print(ar12)\n",
    "print(\"shape of array\",ar12.shape)\n",
    "print(\"Dimensions of array is:\",ar12.ndim)"
   ]
  },
  {
   "cell_type": "code",
   "execution_count": 7,
   "id": "fd33b509-5139-4444-b025-d3a11e3c9c71",
   "metadata": {},
   "outputs": [
    {
     "name": "stdout",
     "output_type": "stream",
     "text": [
      "[[ 1  2  3  4  5  6]\n",
      " [ 7  8  9 10 11 12]]\n",
      "shape of array (2, 6)\n",
      "Dimensions of array is: 2\n"
     ]
    }
   ],
   "source": [
    "ar12 = a.reshape(2,6)\n",
    "print(ar12)\n",
    "print(\"shape of array\",ar12.shape)\n",
    "print(\"Dimensions of array is:\",ar12.ndim)"
   ]
  },
  {
   "cell_type": "markdown",
   "id": "ae65dda8-6058-4198-9d7d-2ce6db0e4a1e",
   "metadata": {},
   "source": [
    "# possibilities to convert  1D to 3D (Using reshape)"
   ]
  },
  {
   "cell_type": "code",
   "execution_count": 9,
   "id": "d49a87cf-9de8-42f2-af55-f0c411b65343",
   "metadata": {},
   "outputs": [
    {
     "name": "stdout",
     "output_type": "stream",
     "text": [
      "[[[ 1  2  3  4  5  6]\n",
      "  [ 7  8  9 10 11 12]]]\n",
      "shape of array (1, 2, 6)\n",
      "Dimensions of array is: 3\n"
     ]
    }
   ],
   "source": [
    "ar = a.reshape(1,2,6)\n",
    "print(ar)\n",
    "print(\"shape of array\",ar.shape)\n",
    "print(\"Dimensions of array is:\",ar.ndim)"
   ]
  },
  {
   "cell_type": "code",
   "execution_count": 10,
   "id": "9c517295-6e07-49bc-8f06-378d4aec808b",
   "metadata": {},
   "outputs": [
    {
     "name": "stdout",
     "output_type": "stream",
     "text": [
      "[[[ 1  2  3  4]\n",
      "  [ 5  6  7  8]\n",
      "  [ 9 10 11 12]]]\n",
      "shape of array (1, 3, 4)\n",
      "Dimensions of array is: 3\n"
     ]
    }
   ],
   "source": [
    "ar = a.reshape(1,3,4)\n",
    "print(ar)\n",
    "print(\"shape of array\",ar.shape)\n",
    "print(\"Dimensions of array is:\",ar.ndim)"
   ]
  },
  {
   "cell_type": "code",
   "execution_count": 11,
   "id": "d59adbdb-71d4-4d9b-93d9-4e5cc21a3e7f",
   "metadata": {},
   "outputs": [
    {
     "name": "stdout",
     "output_type": "stream",
     "text": [
      "[[[ 1  2  3]\n",
      "  [ 4  5  6]\n",
      "  [ 7  8  9]\n",
      "  [10 11 12]]]\n",
      "shape of array (1, 4, 3)\n",
      "Dimensions of array is: 3\n"
     ]
    }
   ],
   "source": [
    "ar = a.reshape(1,4,3)\n",
    "print(ar)\n",
    "print(\"shape of array\",ar.shape)\n",
    "print(\"Dimensions of array is:\",ar.ndim)"
   ]
  },
  {
   "cell_type": "code",
   "execution_count": 12,
   "id": "af62b483-2ffc-47e8-88ea-f45eba2fcd88",
   "metadata": {},
   "outputs": [
    {
     "data": {
      "text/plain": [
       "[1, 2, 3, 4, 5, 6, 7, 8, 9]"
      ]
     },
     "execution_count": 12,
     "metadata": {},
     "output_type": "execute_result"
    }
   ],
   "source": [
    "# converted into array into a list (flatten list)\n",
    "\n",
    "\n",
    "a=np.array([[1,2,3],[4,5,6],[7,8,9]])\n",
    "b=a.reshape(9,)\n",
    "list(b)"
   ]
  },
  {
   "cell_type": "code",
   "execution_count": 13,
   "id": "51759003-a869-4fe2-aad6-b22ca0d463e1",
   "metadata": {},
   "outputs": [
    {
     "data": {
      "text/plain": [
       "[[1, 2, 3], [4, 5, 6], [7, 8, 9]]"
      ]
     },
     "execution_count": 13,
     "metadata": {},
     "output_type": "execute_result"
    }
   ],
   "source": [
    "l1=a.tolist()      # another way to converting array into list.\n",
    "l1"
   ]
  },
  {
   "cell_type": "code",
   "execution_count": 14,
   "id": "211ac796-e1a9-485e-b947-b01a1c352343",
   "metadata": {},
   "outputs": [
    {
     "data": {
      "text/plain": [
       "array([1, 2, 3, 4, 5, 6, 7, 8, 9])"
      ]
     },
     "execution_count": 14,
     "metadata": {},
     "output_type": "execute_result"
    }
   ],
   "source": [
    "a=np.array([[1,2,3],[4,5,6],[7,8,9]])       # another way to converting array into list.\n",
    "b=a.reshape(-1)\n",
    "b"
   ]
  },
  {
   "cell_type": "code",
   "execution_count": 15,
   "id": "cb6564ee-dd4b-47ed-b283-53f20068e641",
   "metadata": {},
   "outputs": [],
   "source": [
    "# take a list by even no\n",
    "list=[1, 2, 3, 4, 5, 6, 7, 8, 9]\n",
    "l2=[]\n",
    "for i in list:\n",
    "    if i %2==0:\n",
    "        l2.append(i)\n",
    "ar1=np.array(l2)"
   ]
  },
  {
   "cell_type": "code",
   "execution_count": 16,
   "id": "bbcc1c47-15f2-4aa0-8699-9f0ac32b5419",
   "metadata": {},
   "outputs": [
    {
     "data": {
      "text/plain": [
       "array([2, 4, 6, 8])"
      ]
     },
     "execution_count": 16,
     "metadata": {},
     "output_type": "execute_result"
    }
   ],
   "source": [
    "ar1"
   ]
  },
  {
   "cell_type": "code",
   "execution_count": 17,
   "id": "fc391691-7975-4369-8eec-ff130f8c4ac1",
   "metadata": {},
   "outputs": [
    {
     "data": {
      "text/plain": [
       "array([2, 4, 6, 8])"
      ]
     },
     "execution_count": 17,
     "metadata": {},
     "output_type": "execute_result"
    }
   ],
   "source": [
    "list=[1, 2, 3, 4, 5, 6, 7, 8, 9]                    # another way.\n",
    "al=np.array([i for i in list if i %2==0])\n",
    "al"
   ]
  },
  {
   "cell_type": "code",
   "execution_count": 18,
   "id": "05563ce3-d312-461d-a204-38c4e64ab2d3",
   "metadata": {},
   "outputs": [
    {
     "data": {
      "text/plain": [
       "array([ 7,  9, 11, 13,  6])"
      ]
     },
     "execution_count": 18,
     "metadata": {},
     "output_type": "execute_result"
    }
   ],
   "source": [
    "a1=np.array([1,2,3,4,5])     # no of elemenet are should be same in both array.\n",
    "a2=np.array([6,7,8,9,1])\n",
    "a1+a2"
   ]
  },
  {
   "cell_type": "code",
   "execution_count": 19,
   "id": "a0da46ca-a3b8-4084-9920-63a28203c4f7",
   "metadata": {},
   "outputs": [
    {
     "data": {
      "text/plain": [
       "array([48, 14, 24, 36, 35])"
      ]
     },
     "execution_count": 19,
     "metadata": {},
     "output_type": "execute_result"
    }
   ],
   "source": [
    "a1=np.array([8,2,3,4,5])     # no of elemenet are should be same in both array.\n",
    "a2=np.array([6,7,8,9,7])\n",
    "a1*a2"
   ]
  },
  {
   "cell_type": "code",
   "execution_count": 20,
   "id": "0fc1e071-c79d-4725-ac7f-b53cee107b8d",
   "metadata": {},
   "outputs": [
    {
     "data": {
      "text/plain": [
       "array([48, 14, 24, 36, 35])"
      ]
     },
     "execution_count": 20,
     "metadata": {},
     "output_type": "execute_result"
    }
   ],
   "source": [
    "a1=np.array([8,2,3,4,5])     # no of elemenet are should be same in both array.\n",
    "a2=np.array([6,7,8,9,7])\n",
    "np.multiply(a1,a2)"
   ]
  },
  {
   "cell_type": "code",
   "execution_count": 21,
   "id": "4c1e8cd1-5256-4325-a82e-b04080c79696",
   "metadata": {},
   "outputs": [
    {
     "data": {
      "text/plain": [
       "array([2, 4, 6, 8])"
      ]
     },
     "execution_count": 21,
     "metadata": {},
     "output_type": "execute_result"
    }
   ],
   "source": [
    "al"
   ]
  },
  {
   "cell_type": "code",
   "execution_count": 22,
   "id": "2864a9de-88c6-4020-b45f-6f8e8ccc7dcd",
   "metadata": {},
   "outputs": [
    {
     "data": {
      "text/plain": [
       "20"
      ]
     },
     "execution_count": 22,
     "metadata": {},
     "output_type": "execute_result"
    }
   ],
   "source": [
    "np.sum(al)                   #syntax: np.sum(array)"
   ]
  },
  {
   "cell_type": "markdown",
   "id": "038ee8f2-49d3-4aef-b46c-31233a0ef66f",
   "metadata": {},
   "source": [
    "# Dot product  2*2"
   ]
  },
  {
   "cell_type": "code",
   "execution_count": 24,
   "id": "3880c59d-b61d-4a9a-a4e5-837aeb3cca11",
   "metadata": {},
   "outputs": [
    {
     "name": "stdout",
     "output_type": "stream",
     "text": [
      "Array1\n",
      " [[10 20]\n",
      " [30 40]]\n",
      "Array2\n",
      " [[1 2]\n",
      " [3 4]]\n"
     ]
    }
   ],
   "source": [
    "a1=np.array([[10,20],[30,40]])          # 2,2\n",
    "a2=np.array([[1,2],[3,4]])              # 2,2\n",
    "\n",
    "print(\"Array1\\n\",a1)\n",
    "print(\"Array2\\n\",a2)"
   ]
  },
  {
   "cell_type": "code",
   "execution_count": 25,
   "id": "c31a9f17-99db-42c9-9bbf-b26ec4ed959f",
   "metadata": {},
   "outputs": [
    {
     "data": {
      "text/plain": [
       "array([[ 70, 100],\n",
       "       [150, 220]])"
      ]
     },
     "execution_count": 25,
     "metadata": {},
     "output_type": "execute_result"
    }
   ],
   "source": [
    "np.dot(a1,a2)"
   ]
  },
  {
   "cell_type": "markdown",
   "id": "14c82b99-36fe-42c9-9ea8-c85972f1172e",
   "metadata": {},
   "source": [
    "# Dot product 3*2"
   ]
  },
  {
   "cell_type": "code",
   "execution_count": 27,
   "id": "e243ddaa-06cf-44c1-8a37-0ec3df9360ce",
   "metadata": {},
   "outputs": [],
   "source": [
    "a1=np.array([[10,20],[30,40],[4,6]])          #  shape (3,2)\n",
    "a2=np.array([[1,2],[3,4]])                    # shape(2,2)\n",
    "a=np.dot(a1,a2)"
   ]
  },
  {
   "cell_type": "code",
   "execution_count": 28,
   "id": "ce60a61e-f94e-4458-8e28-28294b756004",
   "metadata": {},
   "outputs": [
    {
     "name": "stdout",
     "output_type": "stream",
     "text": [
      "[[ 70 100]\n",
      " [150 220]\n",
      " [ 22  32]]\n",
      "(3, 2)\n",
      "(2, 2)\n",
      "2\n",
      "2\n"
     ]
    }
   ],
   "source": [
    "print(a)\n",
    "print(a1.shape)\n",
    "print(a2.shape)\n",
    "print(a1.ndim)\n",
    "print(a2.ndim)"
   ]
  },
  {
   "cell_type": "code",
   "execution_count": 29,
   "id": "7f8a7098-eb5e-4f42-964b-48b13f187410",
   "metadata": {},
   "outputs": [],
   "source": [
    "a1=np.array([[10,20],[30,40],[4,6]])               # shape 3*2\n",
    "a2=np.array([[1,2],[3,7],[3,5]])                   # shape 3*2\n",
    "a3=np.array([[1,2,3],[3,4,6]])                     # shape 2*3\n"
   ]
  },
  {
   "cell_type": "code",
   "execution_count": 30,
   "id": "04c42bde-ae1a-42e1-9b6a-4223ebb3ef73",
   "metadata": {},
   "outputs": [
    {
     "data": {
      "text/plain": [
       "array([[ 70, 100, 150],\n",
       "       [150, 220, 330],\n",
       "       [ 22,  32,  48]])"
      ]
     },
     "execution_count": 30,
     "metadata": {},
     "output_type": "execute_result"
    }
   ],
   "source": [
    "a12=np.dot(a1,a3)\n",
    "a12"
   ]
  },
  {
   "cell_type": "code",
   "execution_count": 31,
   "id": "9ae83dc1-6e4e-4426-8f3b-40bf7bf03c78",
   "metadata": {},
   "outputs": [
    {
     "data": {
      "text/plain": [
       "(3, 3)"
      ]
     },
     "execution_count": 31,
     "metadata": {},
     "output_type": "execute_result"
    }
   ],
   "source": [
    "a12.shape"
   ]
  },
  {
   "cell_type": "code",
   "execution_count": 32,
   "id": "47e51790-f204-46ce-a541-0a742fa27cca",
   "metadata": {},
   "outputs": [
    {
     "data": {
      "text/plain": [
       "array([[ 820, 1590],\n",
       "       [1800, 3490],\n",
       "       [ 262,  508]])"
      ]
     },
     "execution_count": 32,
     "metadata": {},
     "output_type": "execute_result"
    }
   ],
   "source": [
    "z=np.dot(a12,a2)\n",
    "z"
   ]
  },
  {
   "cell_type": "code",
   "execution_count": 33,
   "id": "82caaac9-7e58-4d61-9926-56a4b31f1f93",
   "metadata": {},
   "outputs": [
    {
     "data": {
      "text/plain": [
       "(3, 2)"
      ]
     },
     "execution_count": 33,
     "metadata": {},
     "output_type": "execute_result"
    }
   ],
   "source": [
    "z.shape"
   ]
  },
  {
   "cell_type": "markdown",
   "id": "df845368-e5b5-4820-ac75-f8f83ca13145",
   "metadata": {},
   "source": [
    "# Zeros"
   ]
  },
  {
   "cell_type": "code",
   "execution_count": 35,
   "id": "fbc14e03-bfe9-4f5a-87f2-3f14c2b10655",
   "metadata": {},
   "outputs": [
    {
     "data": {
      "text/plain": [
       "array([[0, 0, 0],\n",
       "       [0, 0, 0],\n",
       "       [0, 0, 0],\n",
       "       [0, 0, 0]])"
      ]
     },
     "execution_count": 35,
     "metadata": {},
     "output_type": "execute_result"
    }
   ],
   "source": [
    "a=np.zeros((4,3),dtype=\"int\")\n",
    "a"
   ]
  },
  {
   "cell_type": "code",
   "execution_count": 36,
   "id": "13b2985e-fb35-4e14-bc28-9dbad6f5c985",
   "metadata": {},
   "outputs": [
    {
     "data": {
      "text/plain": [
       "array([0, 0, 0, 0])"
      ]
     },
     "execution_count": 36,
     "metadata": {},
     "output_type": "execute_result"
    }
   ],
   "source": [
    "a=np.zeros((4),dtype=\"int\")\n",
    "a"
   ]
  },
  {
   "cell_type": "code",
   "execution_count": 37,
   "id": "e4af0aa8-5e98-4de2-a726-97e00ec647db",
   "metadata": {},
   "outputs": [
    {
     "data": {
      "text/plain": [
       "array([[[0, 0],\n",
       "        [0, 0],\n",
       "        [0, 0]],\n",
       "\n",
       "       [[0, 0],\n",
       "        [0, 0],\n",
       "        [0, 0]],\n",
       "\n",
       "       [[0, 0],\n",
       "        [0, 0],\n",
       "        [0, 0]],\n",
       "\n",
       "       [[0, 0],\n",
       "        [0, 0],\n",
       "        [0, 0]]])"
      ]
     },
     "execution_count": 37,
     "metadata": {},
     "output_type": "execute_result"
    }
   ],
   "source": [
    "a=np.zeros((4,3,2),dtype=\"int\")\n",
    "a"
   ]
  },
  {
   "cell_type": "code",
   "execution_count": 38,
   "id": "cde0ed39-63c0-4132-93cc-1ec8aa0587f8",
   "metadata": {},
   "outputs": [
    {
     "data": {
      "text/plain": [
       "array([[[0, 0, 0],\n",
       "        [0, 0, 0],\n",
       "        [0, 0, 0]],\n",
       "\n",
       "       [[0, 0, 0],\n",
       "        [0, 0, 0],\n",
       "        [0, 0, 0]],\n",
       "\n",
       "       [[0, 0, 0],\n",
       "        [0, 0, 0],\n",
       "        [0, 0, 0]],\n",
       "\n",
       "       [[0, 0, 0],\n",
       "        [0, 0, 0],\n",
       "        [0, 0, 0]]])"
      ]
     },
     "execution_count": 38,
     "metadata": {},
     "output_type": "execute_result"
    }
   ],
   "source": [
    "a=np.zeros((4,3,3),dtype=\"int\")\n",
    "a"
   ]
  },
  {
   "cell_type": "code",
   "execution_count": 39,
   "id": "eca61e25-55fd-4f19-9e94-48fbc4850a37",
   "metadata": {},
   "outputs": [
    {
     "data": {
      "text/plain": [
       "array([[0, 0, 0],\n",
       "       [0, 0, 0],\n",
       "       [0, 0, 0],\n",
       "       [0, 0, 0]])"
      ]
     },
     "execution_count": 39,
     "metadata": {},
     "output_type": "execute_result"
    }
   ],
   "source": [
    "a=np.zeros((4,3),dtype=\"int\")\n",
    "a"
   ]
  },
  {
   "cell_type": "markdown",
   "id": "a2a89730-b5f6-4391-bc95-b50dcec1243c",
   "metadata": {},
   "source": [
    "# Ones"
   ]
  },
  {
   "cell_type": "code",
   "execution_count": 41,
   "id": "001cf416-e4d6-4356-9ddf-c95fbecb8d98",
   "metadata": {},
   "outputs": [
    {
     "data": {
      "text/plain": [
       "array([1, 1, 1, 1, 1])"
      ]
     },
     "execution_count": 41,
     "metadata": {},
     "output_type": "execute_result"
    }
   ],
   "source": [
    "np.ones(5,dtype=\"int\")"
   ]
  },
  {
   "cell_type": "code",
   "execution_count": 42,
   "id": "3d21f880-3995-4e7c-8b8b-f359a769697c",
   "metadata": {},
   "outputs": [
    {
     "data": {
      "text/plain": [
       "array([[1, 1, 1],\n",
       "       [1, 1, 1]])"
      ]
     },
     "execution_count": 42,
     "metadata": {},
     "output_type": "execute_result"
    }
   ],
   "source": [
    "np.ones([2,3],dtype=\"int\")"
   ]
  },
  {
   "cell_type": "code",
   "execution_count": 43,
   "id": "07ff2366-3440-41df-8435-93be0b5881a0",
   "metadata": {},
   "outputs": [
    {
     "data": {
      "text/plain": [
       "array([[[1, 1, 1],\n",
       "        [1, 1, 1],\n",
       "        [1, 1, 1]],\n",
       "\n",
       "       [[1, 1, 1],\n",
       "        [1, 1, 1],\n",
       "        [1, 1, 1]]])"
      ]
     },
     "execution_count": 43,
     "metadata": {},
     "output_type": "execute_result"
    }
   ],
   "source": [
    "np.ones([2,3,3],dtype=\"int\")"
   ]
  },
  {
   "cell_type": "markdown",
   "id": "50d65eb1-ec92-483d-975d-4a51d92191a1",
   "metadata": {},
   "source": [
    "# Identity"
   ]
  },
  {
   "cell_type": "code",
   "execution_count": 45,
   "id": "5a988bac-7c63-4796-9d66-93e8ee89b089",
   "metadata": {},
   "outputs": [
    {
     "data": {
      "text/plain": [
       "array([[1, 0, 0, 0, 0],\n",
       "       [0, 1, 0, 0, 0],\n",
       "       [0, 0, 1, 0, 0],\n",
       "       [0, 0, 0, 1, 0],\n",
       "       [0, 0, 0, 0, 1]])"
      ]
     },
     "execution_count": 45,
     "metadata": {},
     "output_type": "execute_result"
    }
   ],
   "source": [
    "np.eye(5,dtype=\"int\")                 # difference between identity and  eye difference"
   ]
  },
  {
   "cell_type": "code",
   "execution_count": 46,
   "id": "7fac556b-48b6-45ae-8d72-c72173fde23c",
   "metadata": {},
   "outputs": [
    {
     "data": {
      "text/plain": [
       "array([[1, 0, 0, 0, 0],\n",
       "       [0, 1, 0, 0, 0],\n",
       "       [0, 0, 1, 0, 0],\n",
       "       [0, 0, 0, 1, 0],\n",
       "       [0, 0, 0, 0, 1]])"
      ]
     },
     "execution_count": 46,
     "metadata": {},
     "output_type": "execute_result"
    }
   ],
   "source": [
    "np.identity(5,dtype=\"int\")      # but in indeb=ntity matrix does not followed by eye matrix .this is means main difference"
   ]
  },
  {
   "cell_type": "code",
   "execution_count": 47,
   "id": "fd168674-0b9c-42e0-96cf-6155e9618c92",
   "metadata": {},
   "outputs": [
    {
     "data": {
      "text/plain": [
       "array([[0, 0, 0, 1, 0],\n",
       "       [0, 0, 0, 0, 1],\n",
       "       [0, 0, 0, 0, 0],\n",
       "       [0, 0, 0, 0, 0],\n",
       "       [0, 0, 0, 0, 0]])"
      ]
     },
     "execution_count": 47,
     "metadata": {},
     "output_type": "execute_result"
    }
   ],
   "source": [
    "np.eye(5,k=3,dtype=\"int\") #  k :- partmeter is hepls set diagonally values but does not support in indentity the values. "
   ]
  },
  {
   "cell_type": "markdown",
   "id": "502cb21c-caf9-4e74-a6f4-fbda5064df65",
   "metadata": {},
   "source": [
    "# 4. np.arange"
   ]
  },
  {
   "cell_type": "code",
   "execution_count": 49,
   "id": "f1f50b4e-f441-488f-83a1-4fabbf1f981c",
   "metadata": {},
   "outputs": [
    {
     "data": {
      "text/plain": [
       "array([ 1,  2,  3,  4,  5,  6,  7,  8,  9, 10, 11, 12, 13, 14, 15, 16, 17,\n",
       "       18, 19, 20])"
      ]
     },
     "execution_count": 49,
     "metadata": {},
     "output_type": "execute_result"
    }
   ],
   "source": [
    "np.arange(1,21)"
   ]
  },
  {
   "cell_type": "code",
   "execution_count": 50,
   "id": "8836901b-6049-4e4a-8989-9706c91dd346",
   "metadata": {},
   "outputs": [
    {
     "data": {
      "text/plain": [
       "(2, 2)"
      ]
     },
     "execution_count": 50,
     "metadata": {},
     "output_type": "execute_result"
    }
   ],
   "source": [
    "2,3\n",
    "3,2\n",
    "3,3\n",
    "2,2\n"
   ]
  },
  {
   "cell_type": "code",
   "execution_count": 58,
   "id": "06c33d5c-35e4-4004-848c-7df3f374d955",
   "metadata": {},
   "outputs": [
    {
     "ename": "AttributeError",
     "evalue": "'list' object has no attribute 'reshape'",
     "output_type": "error",
     "traceback": [
      "\u001b[1;31m---------------------------------------------------------------------------\u001b[0m",
      "\u001b[1;31mAttributeError\u001b[0m                            Traceback (most recent call last)",
      "Cell \u001b[1;32mIn[58], line 2\u001b[0m\n\u001b[0;32m      1\u001b[0m q\u001b[38;5;241m=\u001b[39m([[ \u001b[38;5;241m1\u001b[39m,  \u001b[38;5;241m2\u001b[39m,  \u001b[38;5;241m3\u001b[39m,  \u001b[38;5;241m4\u001b[39m,  \u001b[38;5;241m5\u001b[39m,  \u001b[38;5;241m6\u001b[39m,  \u001b[38;5;241m7\u001b[39m,  \u001b[38;5;241m8\u001b[39m,  \u001b[38;5;241m9\u001b[39m, \u001b[38;5;241m10\u001b[39m, \u001b[38;5;241m11\u001b[39m, \u001b[38;5;241m12\u001b[39m, \u001b[38;5;241m13\u001b[39m, \u001b[38;5;241m14\u001b[39m, \u001b[38;5;241m15\u001b[39m, \u001b[38;5;241m16\u001b[39m, \u001b[38;5;241m17\u001b[39m, \u001b[38;5;241m18\u001b[39m, \u001b[38;5;241m19\u001b[39m, \u001b[38;5;241m20\u001b[39m]])\n\u001b[1;32m----> 2\u001b[0m a\u001b[38;5;241m=\u001b[39mq\u001b[38;5;241m.\u001b[39mreshape(\u001b[38;5;241m2\u001b[39m,\u001b[38;5;241m6\u001b[39m)\n\u001b[0;32m      3\u001b[0m a\n",
      "\u001b[1;31mAttributeError\u001b[0m: 'list' object has no attribute 'reshape'"
     ]
    }
   ],
   "source": [
    "q=([[ 1,  2,  3,  4,  5,  6,  7,  8,  9, 10, 11, 12, 13, 14, 15, 16, 17, 18, 19, 20]])\n",
    "a=q.reshape(2,6)\n",
    "a"
   ]
  },
  {
   "cell_type": "code",
   "execution_count": null,
   "id": "a6495461-b1c7-48ff-bde2-f1a7bd63e4b2",
   "metadata": {},
   "outputs": [],
   "source": []
  },
  {
   "cell_type": "code",
   "execution_count": 54,
   "id": "c0bcaa7f-853f-48e9-8d91-31c79791925b",
   "metadata": {},
   "outputs": [
    {
     "data": {
      "text/plain": [
       "(array([ 1.        ,  3.04166667,  5.08333333,  7.125     ,  9.16666667,\n",
       "        11.20833333, 13.25      , 15.29166667, 17.33333333, 19.375     ,\n",
       "        21.41666667, 23.45833333, 25.5       , 27.54166667, 29.58333333,\n",
       "        31.625     , 33.66666667, 35.70833333, 37.75      , 39.79166667,\n",
       "        41.83333333, 43.875     , 45.91666667, 47.95833333, 50.        ]),\n",
       " 2.0416666666666665)"
      ]
     },
     "execution_count": 54,
     "metadata": {},
     "output_type": "execute_result"
    }
   ],
   "source": [
    "array1=np.linspace(1,50,num=25,retstep=True)\n",
    "array1"
   ]
  },
  {
   "cell_type": "code",
   "execution_count": 60,
   "id": "0515e555-b513-4645-9522-5cd5633400c6",
   "metadata": {},
   "outputs": [
    {
     "data": {
      "text/plain": [
       "array([0., 0., 0., 0., 0., 0., 0., 0., 0., 0.])"
      ]
     },
     "execution_count": 60,
     "metadata": {},
     "output_type": "execute_result"
    }
   ],
   "source": [
    "a=np.zeros(10)\n",
    "a"
   ]
  },
  {
   "cell_type": "code",
   "execution_count": 62,
   "id": "27d29117-e075-44de-a037-df8ffec849cd",
   "metadata": {},
   "outputs": [
    {
     "data": {
      "text/plain": [
       "array([1., 1., 1., 1., 1., 1., 1., 1., 1., 1.])"
      ]
     },
     "execution_count": 62,
     "metadata": {},
     "output_type": "execute_result"
    }
   ],
   "source": [
    "a=np.ones(10)\n",
    "a"
   ]
  },
  {
   "cell_type": "code",
   "execution_count": 64,
   "id": "72658594-d2da-4b1e-a617-700c8746c7a0",
   "metadata": {},
   "outputs": [
    {
     "data": {
      "text/plain": [
       "array([10, 11, 12, 13, 14, 15, 16, 17, 18, 19])"
      ]
     },
     "execution_count": 64,
     "metadata": {},
     "output_type": "execute_result"
    }
   ],
   "source": [
    "np.arange(10,20)\n"
   ]
  },
  {
   "cell_type": "code",
   "execution_count": 88,
   "id": "dd2a135b-49e5-4f1b-bcd2-fb275781848a",
   "metadata": {},
   "outputs": [
    {
     "data": {
      "text/plain": [
       "array([100.        , 111.11111111, 122.22222222, 133.33333333,\n",
       "       144.44444444, 155.55555556, 166.66666667, 177.77777778,\n",
       "       188.88888889, 200.        ])"
      ]
     },
     "execution_count": 88,
     "metadata": {},
     "output_type": "execute_result"
    }
   ],
   "source": [
    "array1=np.linspace(100,200,num=10)\n",
    "array1"
   ]
  },
  {
   "cell_type": "code",
   "execution_count": 115,
   "id": "382fa612-175d-4955-a4a9-6938ff7f5ad3",
   "metadata": {},
   "outputs": [
    {
     "ename": "NameError",
     "evalue": "name 'linspace' is not defined",
     "output_type": "error",
     "traceback": [
      "\u001b[1;31m---------------------------------------------------------------------------\u001b[0m",
      "\u001b[1;31mNameError\u001b[0m                                 Traceback (most recent call last)",
      "Cell \u001b[1;32mIn[115], line 2\u001b[0m\n\u001b[0;32m      1\u001b[0m \u001b[38;5;28;01mimport\u001b[39;00m \u001b[38;5;21;01mmath\u001b[39;00m\n\u001b[1;32m----> 2\u001b[0m linspace\n\u001b[0;32m      3\u001b[0m \u001b[38;5;28mdict\u001b[39m\u001b[38;5;241m=\u001b[39m{\u001b[38;5;124m\"\u001b[39m\u001b[38;5;124mzeros\u001b[39m\u001b[38;5;124m\"\u001b[39m: np\u001b[38;5;241m.\u001b[39mzeros(\u001b[38;5;241m10\u001b[39m),\n\u001b[0;32m      4\u001b[0m       \u001b[38;5;124m\"\u001b[39m\u001b[38;5;124mOnes\u001b[39m\u001b[38;5;124m\"\u001b[39m: np\u001b[38;5;241m.\u001b[39mones(\u001b[38;5;241m10\u001b[39m),\n\u001b[0;32m      5\u001b[0m       \u001b[38;5;124m\"\u001b[39m\u001b[38;5;124mArange\u001b[39m\u001b[38;5;124m\"\u001b[39m: np\u001b[38;5;241m.\u001b[39marange(\u001b[38;5;241m10\u001b[39m,\u001b[38;5;241m20\u001b[39m),\n\u001b[0;32m      6\u001b[0m       \u001b[38;5;124m\"\u001b[39m\u001b[38;5;124mLinspace\u001b[39m\u001b[38;5;124m\"\u001b[39m:np\u001b[38;5;241m.\u001b[39mlinspace(\u001b[38;5;241m100\u001b[39m,\u001b[38;5;241m200\u001b[39m,num\u001b[38;5;241m=\u001b[39m\u001b[38;5;241m10\u001b[39m,)}\n\u001b[0;32m      7\u001b[0m \u001b[38;5;28mdict\u001b[39m\n",
      "\u001b[1;31mNameError\u001b[0m: name 'linspace' is not defined"
     ]
    }
   ],
   "source": [
    "import math\n",
    "linspace\n",
    "dict={\"zeros\": np.zeros(10),\n",
    "      \"Ones\": np.ones(10),\n",
    "      \"Arange\": np.arange(10,20),\n",
    "      \"Linspace\":np.linspace(100,200,num=10,)}\n",
    "dict"
   ]
  },
  {
   "cell_type": "markdown",
   "id": "7fb6182e-30f0-429f-807c-534eac95e275",
   "metadata": {},
   "source": [
    "# 8.1 random"
   ]
  },
  {
   "cell_type": "code",
   "execution_count": 101,
   "id": "9ed31800-6153-4e0e-b545-cddd5669199e",
   "metadata": {},
   "outputs": [
    {
     "data": {
      "text/plain": [
       "array([[[0.37421915, 0.31529922],\n",
       "        [0.36224214, 0.57515844],\n",
       "        [0.41191508, 0.25316053]]])"
      ]
     },
     "execution_count": 101,
     "metadata": {},
     "output_type": "execute_result"
    }
   ],
   "source": [
    "np.random.rand(1,3,2)"
   ]
  },
  {
   "cell_type": "code",
   "execution_count": 103,
   "id": "75863e29-1d1d-4f66-b5ee-1d0c599a9208",
   "metadata": {},
   "outputs": [
    {
     "data": {
      "text/plain": [
       "array([[0.14053772, 0.51454838, 0.32121492]])"
      ]
     },
     "execution_count": 103,
     "metadata": {},
     "output_type": "execute_result"
    }
   ],
   "source": [
    "np.random.rand(1,3)"
   ]
  },
  {
   "cell_type": "code",
   "execution_count": 105,
   "id": "105ec07c-f105-44db-953a-e35256d8b0da",
   "metadata": {},
   "outputs": [
    {
     "data": {
      "text/plain": [
       "array([[[0.74806557, 0.81226722],\n",
       "        [0.0887798 , 0.33470264],\n",
       "        [0.14895979, 0.35578771]],\n",
       "\n",
       "       [[0.32611819, 0.90318682],\n",
       "        [0.11943313, 0.6604865 ],\n",
       "        [0.20226453, 0.39915008]]])"
      ]
     },
     "execution_count": 105,
     "metadata": {},
     "output_type": "execute_result"
    }
   ],
   "source": [
    "np.random.rand(2,3,2)"
   ]
  },
  {
   "cell_type": "code",
   "execution_count": 107,
   "id": "06673d6e-65a5-44e2-a8cc-7c58de782271",
   "metadata": {},
   "outputs": [
    {
     "data": {
      "text/plain": [
       "array([[[0.46102541, 0.52221956],\n",
       "        [0.52986591, 0.08102358],\n",
       "        [0.42716994, 0.37228861]],\n",
       "\n",
       "       [[0.64585834, 0.83276018],\n",
       "        [0.531159  , 0.72250207],\n",
       "        [0.22016537, 0.81889255]]])"
      ]
     },
     "execution_count": 107,
     "metadata": {},
     "output_type": "execute_result"
    }
   ],
   "source": [
    "np.random.rand(2,3,2)"
   ]
  },
  {
   "cell_type": "code",
   "execution_count": 109,
   "id": "dd4b7236-7ae2-4a10-8dcc-c34e8ff26e6d",
   "metadata": {},
   "outputs": [
    {
     "data": {
      "text/plain": [
       "array([[[0.09771251, 0.1000898 , 0.75572636],\n",
       "        [0.24204821, 0.64580489, 0.31682331],\n",
       "        [0.99954799, 0.87701735, 0.32848717]],\n",
       "\n",
       "       [[0.68208222, 0.88995663, 0.57490493],\n",
       "        [0.3149186 , 0.57617673, 0.36442289],\n",
       "        [0.12963274, 0.7081824 , 0.07695269]]])"
      ]
     },
     "execution_count": 109,
     "metadata": {},
     "output_type": "execute_result"
    }
   ],
   "source": [
    "np.random.rand(2,3,3)"
   ]
  },
  {
   "cell_type": "code",
   "execution_count": 119,
   "id": "1704e1ed-05ad-425b-ae46-7cede680d508",
   "metadata": {},
   "outputs": [
    {
     "data": {
      "text/plain": [
       "array([[[0.65, 0.32],\n",
       "        [0.22, 0.48],\n",
       "        [0.17, 0.49]]])"
      ]
     },
     "execution_count": 119,
     "metadata": {},
     "output_type": "execute_result"
    }
   ],
   "source": [
    "q=np.round (np.random.rand(1,3,2),2)\n",
    "q"
   ]
  },
  {
   "cell_type": "code",
   "execution_count": 123,
   "id": "2f1bc361-213f-42a8-9430-ed4e34315ab2",
   "metadata": {},
   "outputs": [
    {
     "data": {
      "text/plain": [
       "array([0.65, 0.32])"
      ]
     },
     "execution_count": 123,
     "metadata": {},
     "output_type": "execute_result"
    }
   ],
   "source": [
    "q[0][0]"
   ]
  },
  {
   "cell_type": "code",
   "execution_count": 137,
   "id": "65ba0056-c1c8-4b93-a299-ce9b6177c2c4",
   "metadata": {},
   "outputs": [
    {
     "data": {
      "text/plain": [
       "array([0.17, 0.49])"
      ]
     },
     "execution_count": 137,
     "metadata": {},
     "output_type": "execute_result"
    }
   ],
   "source": [
    "q[0][2]"
   ]
  },
  {
   "cell_type": "code",
   "execution_count": 157,
   "id": "3466090c-3236-456e-853e-c404aaed193e",
   "metadata": {},
   "outputs": [
    {
     "data": {
      "text/plain": [
       "array([0.22, 0.48])"
      ]
     },
     "execution_count": 157,
     "metadata": {},
     "output_type": "execute_result"
    }
   ],
   "source": [
    "q[0][1]"
   ]
  },
  {
   "cell_type": "code",
   "execution_count": 143,
   "id": "d127c9ef-557b-4f5c-9151-3a20d4c29b46",
   "metadata": {},
   "outputs": [
    {
     "data": {
      "text/plain": [
       "22321.326"
      ]
     },
     "execution_count": 143,
     "metadata": {},
     "output_type": "execute_result"
    }
   ],
   "source": [
    "np.round(22321.325667,3)"
   ]
  },
  {
   "cell_type": "code",
   "execution_count": 145,
   "id": "29ba4fe7-2a9b-49dd-9237-d5ed2affa291",
   "metadata": {},
   "outputs": [
    {
     "data": {
      "text/plain": [
       "15.0"
      ]
     },
     "execution_count": 145,
     "metadata": {},
     "output_type": "execute_result"
    }
   ],
   "source": [
    "np.sqrt(225)"
   ]
  },
  {
   "cell_type": "code",
   "execution_count": 147,
   "id": "260fcb67-cc69-4a5e-9ace-28d926efdb9f",
   "metadata": {},
   "outputs": [
    {
     "data": {
      "text/plain": [
       "6.082201995573399"
      ]
     },
     "execution_count": 147,
     "metadata": {},
     "output_type": "execute_result"
    }
   ],
   "source": [
    "np.cbrt(225)"
   ]
  },
  {
   "cell_type": "code",
   "execution_count": 149,
   "id": "69b974b6-d813-474e-abff-305b150456a3",
   "metadata": {},
   "outputs": [
    {
     "data": {
      "text/plain": [
       "8"
      ]
     },
     "execution_count": 149,
     "metadata": {},
     "output_type": "execute_result"
    }
   ],
   "source": [
    "np.power(2,3)"
   ]
  },
  {
   "cell_type": "code",
   "execution_count": 151,
   "id": "289a1afd-a5ac-4e2c-9cab-27b36641ddb1",
   "metadata": {},
   "outputs": [
    {
     "data": {
      "text/plain": [
       "15.0"
      ]
     },
     "execution_count": 151,
     "metadata": {},
     "output_type": "execute_result"
    }
   ],
   "source": [
    "np.median(a1)"
   ]
  },
  {
   "cell_type": "code",
   "execution_count": 159,
   "id": "6d3657e8-7aa2-471c-a088-cce528fb49e2",
   "metadata": {},
   "outputs": [
    {
     "data": {
      "text/plain": [
       "18.333333333333332"
      ]
     },
     "execution_count": 159,
     "metadata": {},
     "output_type": "execute_result"
    }
   ],
   "source": [
    "np.mean(a1)"
   ]
  },
  {
   "cell_type": "markdown",
   "id": "29b94945-304a-4535-b864-9f0e37f24ee1",
   "metadata": {},
   "source": [
    "# 8.2 Random int"
   ]
  },
  {
   "cell_type": "code",
   "execution_count": 167,
   "id": "c80ec8f1-a072-4f73-ac85-f9b34b0fbd64",
   "metadata": {},
   "outputs": [
    {
     "data": {
      "text/plain": [
       "9"
      ]
     },
     "execution_count": 167,
     "metadata": {},
     "output_type": "execute_result"
    }
   ],
   "source": [
    "np.random.randint(1,25)"
   ]
  },
  {
   "cell_type": "code",
   "execution_count": 171,
   "id": "42495c46-8205-42ba-8b93-c4fa38145f1e",
   "metadata": {},
   "outputs": [
    {
     "data": {
      "text/plain": [
       "array([[ 3, 17, 22],\n",
       "       [ 7, 18, 13]])"
      ]
     },
     "execution_count": 171,
     "metadata": {},
     "output_type": "execute_result"
    }
   ],
   "source": [
    "np.random.randint(1,25,size=(2,3))"
   ]
  },
  {
   "cell_type": "code",
   "execution_count": 173,
   "id": "4498bfcf-6807-48e4-a785-6465103e1454",
   "metadata": {},
   "outputs": [
    {
     "data": {
      "text/plain": [
       "array([16, 22])"
      ]
     },
     "execution_count": 173,
     "metadata": {},
     "output_type": "execute_result"
    }
   ],
   "source": [
    "np.random.randint(1,25,size=(2,))"
   ]
  },
  {
   "cell_type": "code",
   "execution_count": 175,
   "id": "39813c5c-0c9b-4fb2-ab9b-8efe7c032fb5",
   "metadata": {},
   "outputs": [
    {
     "data": {
      "text/plain": [
       "array([15, 24])"
      ]
     },
     "execution_count": 175,
     "metadata": {},
     "output_type": "execute_result"
    }
   ],
   "source": [
    "np.random.randint(1,25,size=(2,))"
   ]
  },
  {
   "cell_type": "code",
   "execution_count": null,
   "id": "cbaef100-4f2c-4e17-bc1a-5cd194928f27",
   "metadata": {},
   "outputs": [],
   "source": [
    "random.rand()                      #  difference between rand() , randint()\n",
    "random.randint() "
   ]
  },
  {
   "cell_type": "code",
   "execution_count": 178,
   "id": "e70ab063-2dee-4c9c-83da-8753bba16115",
   "metadata": {},
   "outputs": [
    {
     "data": {
      "text/plain": [
       "array([26, 29, 43])"
      ]
     },
     "execution_count": 178,
     "metadata": {},
     "output_type": "execute_result"
    }
   ],
   "source": [
    "arr1=np.random.randint(10,50,size=3)\n",
    "arr1"
   ]
  },
  {
   "cell_type": "code",
   "execution_count": 186,
   "id": "9ff45bec-1b01-4304-a18c-7e37a27fb60a",
   "metadata": {},
   "outputs": [
    {
     "data": {
      "text/plain": [
       "[26, 29, 43]"
      ]
     },
     "execution_count": 186,
     "metadata": {},
     "output_type": "execute_result"
    }
   ],
   "source": [
    "l1=arr1.tolist()\n",
    "l1"
   ]
  },
  {
   "cell_type": "code",
   "execution_count": 190,
   "id": "fb8eb3c2-39e3-4576-96db-46838af58ddf",
   "metadata": {},
   "outputs": [
    {
     "data": {
      "text/plain": [
       "'26 29 43'"
      ]
     },
     "execution_count": 190,
     "metadata": {},
     "output_type": "execute_result"
    }
   ],
   "source": [
    "\" \".join([str(i) for i in l1])"
   ]
  },
  {
   "cell_type": "code",
   "execution_count": null,
   "id": "571752f9-faad-434a-b76d-89b6cfdfa2b6",
   "metadata": {},
   "outputs": [],
   "source": []
  }
 ],
 "metadata": {
  "kernelspec": {
   "display_name": "Python 3 (ipykernel)",
   "language": "python",
   "name": "python3"
  },
  "language_info": {
   "codemirror_mode": {
    "name": "ipython",
    "version": 3
   },
   "file_extension": ".py",
   "mimetype": "text/x-python",
   "name": "python",
   "nbconvert_exporter": "python",
   "pygments_lexer": "ipython3",
   "version": "3.12.4"
  }
 },
 "nbformat": 4,
 "nbformat_minor": 5
}
