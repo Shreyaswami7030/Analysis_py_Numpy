{
 "cells": [
  {
   "cell_type": "code",
   "execution_count": 1,
   "id": "204061e3-0c11-4e16-8132-482edf45dcdd",
   "metadata": {},
   "outputs": [],
   "source": [
    "import numpy as np"
   ]
  },
  {
   "cell_type": "code",
   "execution_count": 2,
   "id": "13687e69-f0ba-46c8-93f6-c14ea55368f2",
   "metadata": {},
   "outputs": [
    {
     "data": {
      "text/plain": [
       "array([-0.39148907, -1.1367594 ,  0.76555357, -1.48508081])"
      ]
     },
     "execution_count": 2,
     "metadata": {},
     "output_type": "execute_result"
    }
   ],
   "source": [
    "ar=np.random.randn(4)\n",
    "ar"
   ]
  },
  {
   "cell_type": "code",
   "execution_count": 3,
   "id": "252dc95d-56a3-4566-b75b-e12f5c4ce42d",
   "metadata": {},
   "outputs": [
    {
     "data": {
      "text/plain": [
       "array([[ 0.8849825 ,  0.4686906 , -1.25951107],\n",
       "       [ 0.48576868,  1.1072474 , -0.7123329 ],\n",
       "       [ 0.24586611,  0.1891131 ,  0.09013126],\n",
       "       [ 0.62463909, -0.05476707, -0.53294989]])"
      ]
     },
     "execution_count": 3,
     "metadata": {},
     "output_type": "execute_result"
    }
   ],
   "source": [
    "ar=np.random.randn(4,3)\n",
    "ar"
   ]
  },
  {
   "cell_type": "code",
   "execution_count": 4,
   "id": "d617cdab-28fc-49a2-86eb-87ba6d4447ef",
   "metadata": {},
   "outputs": [
    {
     "data": {
      "text/plain": [
       "array([[[-0.10823572, -0.26000638],\n",
       "        [ 0.5444359 ,  1.45609579],\n",
       "        [-0.3710491 , -0.89290446],\n",
       "        [ 0.36292997, -1.16636918]],\n",
       "\n",
       "       [[ 2.27982296,  0.08742318],\n",
       "        [ 0.14284834,  0.65204301],\n",
       "        [-0.95630864,  1.60637915],\n",
       "        [-0.62640258,  0.45495904]],\n",
       "\n",
       "       [[ 0.29603805, -2.17884263],\n",
       "        [ 1.38484792,  0.3020009 ],\n",
       "        [-0.84464352,  0.4755387 ],\n",
       "        [-1.94331238, -0.67287305]],\n",
       "\n",
       "       [[ 0.38488037, -0.81245468],\n",
       "        [ 1.52605246, -0.05627536],\n",
       "        [-0.06671464, -0.93310016],\n",
       "        [-0.38706435, -1.86895333]]])"
      ]
     },
     "execution_count": 4,
     "metadata": {},
     "output_type": "execute_result"
    }
   ],
   "source": [
    "ar=np.random.randn(4,4,2)\n",
    "ar"
   ]
  },
  {
   "cell_type": "code",
   "execution_count": 5,
   "id": "97fe0c12-d224-43fc-af78-3ad2edc08b1c",
   "metadata": {},
   "outputs": [
    {
     "data": {
      "text/plain": [
       "array([0.72460895, 0.01070447, 0.0783956 , 0.69438131])"
      ]
     },
     "execution_count": 5,
     "metadata": {},
     "output_type": "execute_result"
    }
   ],
   "source": [
    "ar1=np.random.ranf(4)\n",
    "ar1"
   ]
  },
  {
   "cell_type": "code",
   "execution_count": 6,
   "id": "0ae0d619-0cff-4867-b1a6-4f32d9fde5e7",
   "metadata": {},
   "outputs": [
    {
     "data": {
      "text/plain": [
       "array([[0.10191617, 0.56307708, 0.71665788],\n",
       "       [0.74845898, 0.92861288, 0.04159288]])"
      ]
     },
     "execution_count": 6,
     "metadata": {},
     "output_type": "execute_result"
    }
   ],
   "source": [
    "ar11=np.random.random_sample((2,3))\n",
    "ar11"
   ]
  },
  {
   "cell_type": "code",
   "execution_count": 7,
   "id": "12d31220-3bba-44f0-9f6f-70eb6ad10d2b",
   "metadata": {},
   "outputs": [
    {
     "data": {
      "text/plain": [
       "array([0.34267796, 0.28979881])"
      ]
     },
     "execution_count": 7,
     "metadata": {},
     "output_type": "execute_result"
    }
   ],
   "source": [
    "ar21=np.random.ranf(2)\n",
    "ar21"
   ]
  },
  {
   "cell_type": "code",
   "execution_count": 8,
   "id": "d4f2ed62-de32-4958-9854-fe5ba50c3e91",
   "metadata": {},
   "outputs": [
    {
     "data": {
      "text/plain": [
       "array([[0.47642682, 0.55333327, 0.88489965, 0.74720912],\n",
       "       [0.2574518 , 0.95613957, 0.43604031, 0.71539561],\n",
       "       [0.36367171, 0.76796734, 0.04443247, 0.85993795]])"
      ]
     },
     "execution_count": 8,
     "metadata": {},
     "output_type": "execute_result"
    }
   ],
   "source": [
    "ar31=np.random.random_sample((3,4))\n",
    "ar31"
   ]
  },
  {
   "cell_type": "code",
   "execution_count": 9,
   "id": "d1bf0f6e-fa66-407c-9bc8-399a62938731",
   "metadata": {},
   "outputs": [
    {
     "data": {
      "text/plain": [
       "array([[0.08387581, 0.80223234],\n",
       "       [0.35837424, 0.14232973],\n",
       "       [0.01114478, 0.93524527]])"
      ]
     },
     "execution_count": 9,
     "metadata": {},
     "output_type": "execute_result"
    }
   ],
   "source": [
    "ar221=np.random.ranf((3,2))\n",
    "ar221"
   ]
  },
  {
   "cell_type": "code",
   "execution_count": 10,
   "id": "c2778bff-918f-43f9-bea0-e26fbf989c7f",
   "metadata": {},
   "outputs": [
    {
     "data": {
      "text/plain": [
       "array([[[0.35232316, 0.17880226],\n",
       "        [0.00948175, 0.74585105]],\n",
       "\n",
       "       [[0.30303482, 0.61574941],\n",
       "        [0.02127698, 0.15347062]],\n",
       "\n",
       "       [[0.00667456, 0.35005661],\n",
       "        [0.98198793, 0.60784437]]])"
      ]
     },
     "execution_count": 10,
     "metadata": {},
     "output_type": "execute_result"
    }
   ],
   "source": [
    "ar24=np.random.ranf((3,2,2))\n",
    "ar24"
   ]
  },
  {
   "cell_type": "code",
   "execution_count": 11,
   "id": "193b5d1e-d112-4c65-a38e-bcdb0bed30a4",
   "metadata": {},
   "outputs": [
    {
     "data": {
      "text/plain": [
       "array([[[0.04316517, 0.38208155, 0.95401925, 0.82254621],\n",
       "        [0.29792829, 0.60772634, 0.77445162, 0.80668594],\n",
       "        [0.2400727 , 0.43606605, 0.82797402, 0.64018948]],\n",
       "\n",
       "       [[0.71784054, 0.54635162, 0.72554655, 0.58897799],\n",
       "        [0.32078257, 0.11386574, 0.71273924, 0.6467239 ],\n",
       "        [0.59620643, 0.54231905, 0.98730765, 0.22976144]]])"
      ]
     },
     "execution_count": 11,
     "metadata": {},
     "output_type": "execute_result"
    }
   ],
   "source": [
    "ar3=np.random.random_sample((2,3,4))\n",
    "ar3\n"
   ]
  },
  {
   "cell_type": "code",
   "execution_count": 12,
   "id": "6f75c4a3-fbe4-42ab-9238-170abcd85ec8",
   "metadata": {},
   "outputs": [
    {
     "data": {
      "text/plain": [
       "array([[[0.04316517, 0.38208155, 0.82254621, 0.95401925],\n",
       "        [0.29792829, 0.60772634, 0.77445162, 0.80668594],\n",
       "        [0.2400727 , 0.43606605, 0.64018948, 0.82797402]],\n",
       "\n",
       "       [[0.54635162, 0.58897799, 0.71784054, 0.72554655],\n",
       "        [0.11386574, 0.32078257, 0.6467239 , 0.71273924],\n",
       "        [0.22976144, 0.54231905, 0.59620643, 0.98730765]]])"
      ]
     },
     "execution_count": 12,
     "metadata": {},
     "output_type": "execute_result"
    }
   ],
   "source": [
    "np.sort(ar3)\n"
   ]
  },
  {
   "cell_type": "code",
   "execution_count": 13,
   "id": "7faeac93-46d1-4f4a-8400-5ae40d992179",
   "metadata": {},
   "outputs": [
    {
     "data": {
      "text/plain": [
       "array([[29, 18],\n",
       "       [ 7, 18]])"
      ]
     },
     "execution_count": 13,
     "metadata": {},
     "output_type": "execute_result"
    }
   ],
   "source": [
    "arr1=np.random.randint(1,50, size=(2,2))\n",
    "arr1"
   ]
  },
  {
   "cell_type": "code",
   "execution_count": 14,
   "id": "d0755b09-c358-433c-ace2-8f11ec213202",
   "metadata": {},
   "outputs": [
    {
     "data": {
      "text/plain": [
       "array([[18, 29],\n",
       "       [ 7, 18]])"
      ]
     },
     "execution_count": 14,
     "metadata": {},
     "output_type": "execute_result"
    }
   ],
   "source": [
    "np.sort(arr1)"
   ]
  },
  {
   "cell_type": "code",
   "execution_count": 15,
   "id": "03a0691e-f05a-457e-871c-0a957ed0ec31",
   "metadata": {},
   "outputs": [
    {
     "data": {
      "text/plain": [
       "array([[ 7, 18],\n",
       "       [29, 18]])"
      ]
     },
     "execution_count": 15,
     "metadata": {},
     "output_type": "execute_result"
    }
   ],
   "source": [
    "np.sort(arr1,axis=0)"
   ]
  },
  {
   "cell_type": "code",
   "execution_count": 16,
   "id": "9d3c8f86-0a42-4e67-9834-a32a0b08bfd9",
   "metadata": {},
   "outputs": [
    {
     "data": {
      "text/plain": [
       "array([[18, 29],\n",
       "       [ 7, 18]])"
      ]
     },
     "execution_count": 16,
     "metadata": {},
     "output_type": "execute_result"
    }
   ],
   "source": [
    "np.sort(arr1,axis=1)"
   ]
  },
  {
   "cell_type": "code",
   "execution_count": 17,
   "id": "66fbc78d-61a1-47c1-a5ae-3c41f63b1126",
   "metadata": {},
   "outputs": [
    {
     "data": {
      "text/plain": [
       "array([[13,  1],\n",
       "       [12,  6],\n",
       "       [14, 18]])"
      ]
     },
     "execution_count": 17,
     "metadata": {},
     "output_type": "execute_result"
    }
   ],
   "source": [
    "arr=np.random.randint(1,20,size=(3,2))\n",
    "arr"
   ]
  },
  {
   "cell_type": "raw",
   "id": "b727eea5-9b9a-4b6b-b3bb-5dfc6d78f688",
   "metadata": {},
   "source": [
    "np.sort(arr)"
   ]
  },
  {
   "cell_type": "code",
   "execution_count": 36,
   "id": "b92d379d-988f-4f41-9479-9df0b9106429",
   "metadata": {},
   "outputs": [
    {
     "data": {
      "text/plain": [
       "array([[12,  1],\n",
       "       [13,  6],\n",
       "       [14, 18]])"
      ]
     },
     "execution_count": 36,
     "metadata": {},
     "output_type": "execute_result"
    }
   ],
   "source": [
    "np.sort(arr,axis=0)      # smallest value of column"
   ]
  },
  {
   "cell_type": "code",
   "execution_count": 38,
   "id": "86e93190-aa7b-4389-82d7-fe020ac9d08d",
   "metadata": {},
   "outputs": [
    {
     "data": {
      "text/plain": [
       "array([[ 1, 13],\n",
       "       [ 6, 12],\n",
       "       [14, 18]])"
      ]
     },
     "execution_count": 38,
     "metadata": {},
     "output_type": "execute_result"
    }
   ],
   "source": [
    "np.sort(arr,axis=1)    # inceasing oderdr by row"
   ]
  },
  {
   "cell_type": "markdown",
   "id": "11047c4e-67f6-425e-aa53-b4095216958f",
   "metadata": {},
   "source": [
    "# Stastical Variables"
   ]
  },
  {
   "cell_type": "code",
   "execution_count": 41,
   "id": "fd5841da-dda2-461f-bab2-cbef4702598f",
   "metadata": {},
   "outputs": [
    {
     "data": {
      "text/plain": [
       "10.666666666666666"
      ]
     },
     "execution_count": 41,
     "metadata": {},
     "output_type": "execute_result"
    }
   ],
   "source": [
    "np.mean(arr)"
   ]
  },
  {
   "cell_type": "code",
   "execution_count": 45,
   "id": "4832f439-1459-46b7-8f8e-d9e86fda1a2f",
   "metadata": {},
   "outputs": [
    {
     "data": {
      "text/plain": [
       "12.5"
      ]
     },
     "execution_count": 45,
     "metadata": {},
     "output_type": "execute_result"
    }
   ],
   "source": [
    "np.median(arr)"
   ]
  },
  {
   "cell_type": "code",
   "execution_count": 49,
   "id": "b4897616-8001-426a-9d3d-61c3032fb624",
   "metadata": {},
   "outputs": [
    {
     "data": {
      "text/plain": [
       "5.587684871413403"
      ]
     },
     "execution_count": 49,
     "metadata": {},
     "output_type": "execute_result"
    }
   ],
   "source": [
    "np.std(arr)"
   ]
  },
  {
   "cell_type": "code",
   "execution_count": 51,
   "id": "4acbd822-f6dc-4441-a617-1d2edf645b53",
   "metadata": {},
   "outputs": [
    {
     "data": {
      "text/plain": [
       "31.222222222222218"
      ]
     },
     "execution_count": 51,
     "metadata": {},
     "output_type": "execute_result"
    }
   ],
   "source": [
    "np.var(arr)"
   ]
  },
  {
   "cell_type": "code",
   "execution_count": 55,
   "id": "2e47e57c-613c-4883-9d5b-f4e7ef424c6d",
   "metadata": {},
   "outputs": [
    {
     "data": {
      "text/plain": [
       "nan"
      ]
     },
     "execution_count": 55,
     "metadata": {},
     "output_type": "execute_result"
    }
   ],
   "source": [
    "np.nan       # it denotes the null values  or empty values.\n"
   ]
  },
  {
   "cell_type": "code",
   "execution_count": 58,
   "id": "b9134840-129f-4053-a76e-7af7307c2853",
   "metadata": {},
   "outputs": [],
   "source": [
    "from scipy import stats"
   ]
  },
  {
   "cell_type": "code",
   "execution_count": 82,
   "id": "35537bcc-fecf-4924-a809-49045090226e",
   "metadata": {},
   "outputs": [
    {
     "data": {
      "text/plain": [
       "4"
      ]
     },
     "execution_count": 82,
     "metadata": {},
     "output_type": "execute_result"
    }
   ],
   "source": [
    "# to finding the mode.\n",
    "arr1=np.array([2,3,4,6,7,8,9,4,3,3,2,4,6,7,4,2])\n",
    "mode=stats.mode(arr1,keepdims=False)\n",
    "mode[0]"
   ]
  },
  {
   "cell_type": "code",
   "execution_count": 74,
   "id": "dbf3e880-3455-4643-9db7-ca6bb3f6d494",
   "metadata": {},
   "outputs": [
    {
     "data": {
      "text/plain": [
       "array([2, 3, 4, 6, 7, 8, 9])"
      ]
     },
     "execution_count": 74,
     "metadata": {},
     "output_type": "execute_result"
    }
   ],
   "source": [
    "# to finding the unique value \n",
    "arr1=np.array([2,3,4,6,7,8,9,4,3,3,2,4,6,7,4,2])\n",
    "np.unique(arr1)"
   ]
  },
  {
   "cell_type": "markdown",
   "id": "84427408-8296-41fb-a90f-15f4a72f3564",
   "metadata": {},
   "source": [
    "# Logarithmic Function"
   ]
  },
  {
   "cell_type": "code",
   "execution_count": 85,
   "id": "78285440-cf03-4d45-b801-12cace27a7b6",
   "metadata": {},
   "outputs": [
    {
     "data": {
      "text/plain": [
       "2.302585092994046"
      ]
     },
     "execution_count": 85,
     "metadata": {},
     "output_type": "execute_result"
    }
   ],
   "source": [
    " np.log(10)"
   ]
  },
  {
   "cell_type": "code",
   "execution_count": 87,
   "id": "5448f529-0bf6-4ec5-a681-e84ed77e6cb2",
   "metadata": {},
   "outputs": [
    {
     "data": {
      "text/plain": [
       "0.6931471805599453"
      ]
     },
     "execution_count": 87,
     "metadata": {},
     "output_type": "execute_result"
    }
   ],
   "source": [
    "np.log(2)"
   ]
  },
  {
   "cell_type": "code",
   "execution_count": 91,
   "id": "72b4fd65-1433-466d-aa69-537ee8d0944b",
   "metadata": {},
   "outputs": [
    {
     "data": {
      "text/plain": [
       "3.141592653589793"
      ]
     },
     "execution_count": 91,
     "metadata": {},
     "output_type": "execute_result"
    }
   ],
   "source": [
    "np.pi"
   ]
  },
  {
   "cell_type": "markdown",
   "id": "ab0bb2eb-0c55-4863-92bb-9e942e2600c5",
   "metadata": {},
   "source": [
    "# Trignometry"
   ]
  },
  {
   "cell_type": "code",
   "execution_count": 94,
   "id": "2bffc896-3d02-4c6b-a396-1b3e8d92c7a1",
   "metadata": {},
   "outputs": [
    {
     "data": {
      "text/plain": [
       "0.5235987755982988"
      ]
     },
     "execution_count": 94,
     "metadata": {},
     "output_type": "execute_result"
    }
   ],
   "source": [
    "# Degree to radian\n",
    "np.pi/6"
   ]
  },
  {
   "cell_type": "code",
   "execution_count": 96,
   "id": "15f93cb8-7649-4c5a-842a-e0117b9c2394",
   "metadata": {},
   "outputs": [
    {
     "data": {
      "text/plain": [
       "0.5235987755982988"
      ]
     },
     "execution_count": 96,
     "metadata": {},
     "output_type": "execute_result"
    }
   ],
   "source": [
    "degree_30= np.pi/6\n",
    "degree_30"
   ]
  },
  {
   "cell_type": "code",
   "execution_count": 100,
   "id": "013f722e-df7c-4c54-9f05-03b60b944b37",
   "metadata": {},
   "outputs": [
    {
     "data": {
      "text/plain": [
       "0.7853981633974483"
      ]
     },
     "execution_count": 100,
     "metadata": {},
     "output_type": "execute_result"
    }
   ],
   "source": [
    "degree_45= np.pi/4\n",
    "degree_45"
   ]
  },
  {
   "cell_type": "code",
   "execution_count": 102,
   "id": "c47bd90a-e334-401e-94b3-810962c1ffea",
   "metadata": {},
   "outputs": [
    {
     "data": {
      "text/plain": [
       "1.0471975511965976"
      ]
     },
     "execution_count": 102,
     "metadata": {},
     "output_type": "execute_result"
    }
   ],
   "source": [
    "degree_60= np.pi/3\n",
    "degree_60"
   ]
  },
  {
   "cell_type": "code",
   "execution_count": 104,
   "id": "735cbbb7-2b2a-46cf-9b3f-a543a4d4fd48",
   "metadata": {},
   "outputs": [
    {
     "data": {
      "text/plain": [
       "1.5707963267948966"
      ]
     },
     "execution_count": 104,
     "metadata": {},
     "output_type": "execute_result"
    }
   ],
   "source": [
    "degree_90= np.pi/2\n",
    "degree_90"
   ]
  },
  {
   "cell_type": "code",
   "execution_count": 106,
   "id": "79a4e377-1ad9-4b07-9359-367056d20236",
   "metadata": {},
   "outputs": [
    {
     "data": {
      "text/plain": [
       "3.141592653589793"
      ]
     },
     "execution_count": 106,
     "metadata": {},
     "output_type": "execute_result"
    }
   ],
   "source": [
    "degree_180= np.pi\n",
    "degree_180"
   ]
  },
  {
   "cell_type": "code",
   "execution_count": 110,
   "id": "b0657f5b-0745-48e8-b66f-ef97834bd895",
   "metadata": {},
   "outputs": [
    {
     "data": {
      "text/plain": [
       "0.49999999999999994"
      ]
     },
     "execution_count": 110,
     "metadata": {},
     "output_type": "execute_result"
    }
   ],
   "source": [
    "np.sin(np.pi/6)"
   ]
  },
  {
   "cell_type": "code",
   "execution_count": 112,
   "id": "2cd27b0a-24ee-4a7b-81b3-5f95c3939b43",
   "metadata": {},
   "outputs": [
    {
     "data": {
      "text/plain": [
       "0.7071067811865476"
      ]
     },
     "execution_count": 112,
     "metadata": {},
     "output_type": "execute_result"
    }
   ],
   "source": [
    "np.sin(np.pi/4)"
   ]
  },
  {
   "cell_type": "code",
   "execution_count": 114,
   "id": "87df5b60-480c-42b5-a4fa-2a5eb7dabd12",
   "metadata": {},
   "outputs": [
    {
     "data": {
      "text/plain": [
       "0.8660254037844386"
      ]
     },
     "execution_count": 114,
     "metadata": {},
     "output_type": "execute_result"
    }
   ],
   "source": [
    "np.sin(np.pi/3)"
   ]
  },
  {
   "cell_type": "code",
   "execution_count": 116,
   "id": "bb92c514-ede6-44b1-a08c-b70f614b82e9",
   "metadata": {},
   "outputs": [
    {
     "data": {
      "text/plain": [
       "1.0"
      ]
     },
     "execution_count": 116,
     "metadata": {},
     "output_type": "execute_result"
    }
   ],
   "source": [
    "np.sin(np.pi/2)"
   ]
  },
  {
   "cell_type": "code",
   "execution_count": 118,
   "id": "734e5cb7-7561-4b98-91f3-88a826604918",
   "metadata": {},
   "outputs": [
    {
     "data": {
      "text/plain": [
       "1.2246467991473532e-16"
      ]
     },
     "execution_count": 118,
     "metadata": {},
     "output_type": "execute_result"
    }
   ],
   "source": [
    "np.sin(np.pi)"
   ]
  },
  {
   "cell_type": "code",
   "execution_count": 120,
   "id": "43c2d0ad-478a-4f42-aa7e-392c0261f849",
   "metadata": {},
   "outputs": [
    {
     "data": {
      "text/plain": [
       "0.8660254037844387"
      ]
     },
     "execution_count": 120,
     "metadata": {},
     "output_type": "execute_result"
    }
   ],
   "source": [
    "np.cos(np.pi/6)"
   ]
  },
  {
   "cell_type": "code",
   "execution_count": 122,
   "id": "95e13da7-0113-4603-bf24-9b0198a101aa",
   "metadata": {},
   "outputs": [
    {
     "data": {
      "text/plain": [
       "0.7071067811865476"
      ]
     },
     "execution_count": 122,
     "metadata": {},
     "output_type": "execute_result"
    }
   ],
   "source": [
    "np.cos(np.pi/4)"
   ]
  },
  {
   "cell_type": "code",
   "execution_count": 124,
   "id": "2a3441ef-4870-45d4-bb43-aac2360b788e",
   "metadata": {},
   "outputs": [
    {
     "data": {
      "text/plain": [
       "0.5000000000000001"
      ]
     },
     "execution_count": 124,
     "metadata": {},
     "output_type": "execute_result"
    }
   ],
   "source": [
    "np.cos(np.pi/3)"
   ]
  },
  {
   "cell_type": "code",
   "execution_count": 126,
   "id": "8f7a8667-a9e0-4f3f-ad3b-775a02927d6a",
   "metadata": {},
   "outputs": [
    {
     "data": {
      "text/plain": [
       "6.123233995736766e-17"
      ]
     },
     "execution_count": 126,
     "metadata": {},
     "output_type": "execute_result"
    }
   ],
   "source": [
    "np.cos(np.pi/2)"
   ]
  },
  {
   "cell_type": "code",
   "execution_count": 128,
   "id": "8b8dc797-ecae-439e-96e9-c8b06fd6b920",
   "metadata": {},
   "outputs": [
    {
     "data": {
      "text/plain": [
       "-1.0"
      ]
     },
     "execution_count": 128,
     "metadata": {},
     "output_type": "execute_result"
    }
   ],
   "source": [
    "np.cos(np.pi)"
   ]
  },
  {
   "cell_type": "code",
   "execution_count": 130,
   "id": "50bb6ce8-069a-4d51-9408-d164049a9a25",
   "metadata": {},
   "outputs": [
    {
     "data": {
      "text/plain": [
       "0.5773502691896257"
      ]
     },
     "execution_count": 130,
     "metadata": {},
     "output_type": "execute_result"
    }
   ],
   "source": [
    "np.tan(np.pi/6)"
   ]
  },
  {
   "cell_type": "code",
   "execution_count": 132,
   "id": "3670b5c9-2800-440d-8995-1bc3c5051657",
   "metadata": {},
   "outputs": [
    {
     "data": {
      "text/plain": [
       "0.9999999999999999"
      ]
     },
     "execution_count": 132,
     "metadata": {},
     "output_type": "execute_result"
    }
   ],
   "source": [
    "np.tan(np.pi/4)"
   ]
  },
  {
   "cell_type": "code",
   "execution_count": 134,
   "id": "94c2bfac-d96e-4354-bb7d-1ddc49315abe",
   "metadata": {},
   "outputs": [
    {
     "data": {
      "text/plain": [
       "1.7320508075688767"
      ]
     },
     "execution_count": 134,
     "metadata": {},
     "output_type": "execute_result"
    }
   ],
   "source": [
    "np.tan(np.pi/3)"
   ]
  },
  {
   "cell_type": "code",
   "execution_count": 136,
   "id": "e6baa509-5a77-4b5b-9a77-bb7a76ee9da3",
   "metadata": {},
   "outputs": [
    {
     "data": {
      "text/plain": [
       "1.633123935319537e+16"
      ]
     },
     "execution_count": 136,
     "metadata": {},
     "output_type": "execute_result"
    }
   ],
   "source": [
    "np.tan(np.pi/2)"
   ]
  },
  {
   "cell_type": "code",
   "execution_count": 138,
   "id": "25d3e5b0-bfaa-45c7-903d-d612ee2e2373",
   "metadata": {},
   "outputs": [
    {
     "data": {
      "text/plain": [
       "array([0.        , 0.52359878, 0.78539816, 1.04719755, 1.57079633])"
      ]
     },
     "execution_count": 138,
     "metadata": {},
     "output_type": "execute_result"
    }
   ],
   "source": [
    "# degree to radiant convert.\n",
    "arr=np.array([0,30,45,60,90])\n",
    "rad=np.deg2rad(arr)\n",
    "rad"
   ]
  },
  {
   "cell_type": "code",
   "execution_count": 148,
   "id": "4dc0e5cf-3c4e-42c9-9d8e-8f5681d47e90",
   "metadata": {},
   "outputs": [
    {
     "data": {
      "text/plain": [
       "array([   0.        , 1718.87338539, 2578.31007809, 3437.74677078,\n",
       "       5156.62015618])"
      ]
     },
     "execution_count": 148,
     "metadata": {},
     "output_type": "execute_result"
    }
   ],
   "source": [
    "#  radiant to degree convert.\n",
    "arr=np.array([0,30,45,60,90])\n",
    "rad=np.rad2deg(arr)\n",
    "rad"
   ]
  },
  {
   "cell_type": "markdown",
   "id": "be9f4571-7e6f-4a70-9b8a-f2cc157b8c04",
   "metadata": {},
   "source": [
    "# Linear Algebra"
   ]
  },
  {
   "cell_type": "code",
   "execution_count": 144,
   "id": "7d7c1849-320d-4f5f-9695-a787bb51ccc4",
   "metadata": {},
   "outputs": [
    {
     "data": {
      "text/plain": [
       "array([-5. ,  7.5])"
      ]
     },
     "execution_count": 144,
     "metadata": {},
     "output_type": "execute_result"
    }
   ],
   "source": [
    "A=np.array([[3,4],[5,6]])\n",
    "B=np.array([15,20])\n",
    "np.linalg.solve(A,B)"
   ]
  },
  {
   "cell_type": "markdown",
   "id": "81c4c2fa-c942-4943-aeae-d8e8db266951",
   "metadata": {},
   "source": [
    "# Inverse"
   ]
  },
  {
   "cell_type": "code",
   "execution_count": 153,
   "id": "215dbc20-bb00-4eed-afc3-69d171260c76",
   "metadata": {},
   "outputs": [
    {
     "data": {
      "text/plain": [
       "array([[ 2,  3,  5],\n",
       "       [ 3, -5,  7],\n",
       "       [ 4,  2, 10]])"
      ]
     },
     "execution_count": 153,
     "metadata": {},
     "output_type": "execute_result"
    }
   ],
   "source": [
    "A=np.array([[2,3,5],[3,-5,7],[4,2,10]])\n",
    "A"
   ]
  },
  {
   "cell_type": "code",
   "execution_count": 157,
   "id": "e92b072e-fe0f-4708-8fe4-c49553f99bbf",
   "metadata": {},
   "outputs": [
    {
     "data": {
      "text/plain": [
       "array([[ 16.  ,   5.  , -11.5 ],\n",
       "       [  0.5 ,  -0.  ,  -0.25],\n",
       "       [ -6.5 ,  -2.  ,   4.75]])"
      ]
     },
     "execution_count": 157,
     "metadata": {},
     "output_type": "execute_result"
    }
   ],
   "source": [
    "np.linalg.inv(A)"
   ]
  },
  {
   "cell_type": "markdown",
   "id": "4c50fc02-1012-46ce-9ce5-271b3e8a595e",
   "metadata": {},
   "source": [
    "# Append"
   ]
  },
  {
   "cell_type": "code",
   "execution_count": 160,
   "id": "52a22bcf-186b-46c0-9b9b-3b9a4be5ff0d",
   "metadata": {},
   "outputs": [],
   "source": [
    "import numpy as np"
   ]
  },
  {
   "cell_type": "code",
   "execution_count": 162,
   "id": "73ca3665-b83c-410d-9480-c01dfdc33e10",
   "metadata": {},
   "outputs": [],
   "source": [
    "arr=np.random.randint(1,50,size=(3,3))"
   ]
  },
  {
   "cell_type": "code",
   "execution_count": 164,
   "id": "6cea6759-bcb5-4449-9b11-7139367152ba",
   "metadata": {},
   "outputs": [],
   "source": [
    "arr1=np.random.randint(1,50,size=(3,3))"
   ]
  },
  {
   "cell_type": "code",
   "execution_count": 166,
   "id": "64ec89a9-9402-4533-a0b1-48bcc08f1e25",
   "metadata": {},
   "outputs": [
    {
     "data": {
      "text/plain": [
       "array([[38, 24, 39],\n",
       "       [23, 25,  1],\n",
       "       [34, 17, 36]])"
      ]
     },
     "execution_count": 166,
     "metadata": {},
     "output_type": "execute_result"
    }
   ],
   "source": [
    "arr"
   ]
  },
  {
   "cell_type": "code",
   "execution_count": 168,
   "id": "b13c21cd-af8c-46e3-b60e-70906472867b",
   "metadata": {},
   "outputs": [
    {
     "data": {
      "text/plain": [
       "array([[26, 42, 41],\n",
       "       [42, 43, 49],\n",
       "       [15, 49, 45]])"
      ]
     },
     "execution_count": 168,
     "metadata": {},
     "output_type": "execute_result"
    }
   ],
   "source": [
    "arr1"
   ]
  },
  {
   "cell_type": "code",
   "execution_count": 170,
   "id": "5e741219-54e3-4e29-a67d-1ef5b25f0ce8",
   "metadata": {},
   "outputs": [
    {
     "data": {
      "text/plain": [
       "array([38, 24, 39, 23, 25,  1, 34, 17, 36, 26, 42, 41, 42, 43, 49, 15, 49,\n",
       "       45])"
      ]
     },
     "execution_count": 170,
     "metadata": {},
     "output_type": "execute_result"
    }
   ],
   "source": [
    "np.append(arr,arr1)"
   ]
  },
  {
   "cell_type": "code",
   "execution_count": 172,
   "id": "fb37dcd2-bcf1-4db3-83ab-c4938b2ed412",
   "metadata": {},
   "outputs": [
    {
     "data": {
      "text/plain": [
       "array([[64, 66, 80],\n",
       "       [65, 68, 50],\n",
       "       [49, 66, 81]])"
      ]
     },
     "execution_count": 172,
     "metadata": {},
     "output_type": "execute_result"
    }
   ],
   "source": [
    "np.add(arr,arr1)"
   ]
  },
  {
   "cell_type": "code",
   "execution_count": 174,
   "id": "870f49c1-a63f-4344-8d93-bd0ba212aa76",
   "metadata": {},
   "outputs": [
    {
     "data": {
      "text/plain": [
       "array([[38, 24, 39],\n",
       "       [23, 25,  1],\n",
       "       [34, 17, 36],\n",
       "       [26, 42, 41],\n",
       "       [42, 43, 49],\n",
       "       [15, 49, 45]])"
      ]
     },
     "execution_count": 174,
     "metadata": {},
     "output_type": "execute_result"
    }
   ],
   "source": [
    "np.append(arr,arr1,axis=0)      "
   ]
  },
  {
   "cell_type": "code",
   "execution_count": 176,
   "id": "bfcf8d11-d036-4197-8a60-9429bc67dac2",
   "metadata": {},
   "outputs": [
    {
     "data": {
      "text/plain": [
       "array([[38, 24, 39, 26, 42, 41],\n",
       "       [23, 25,  1, 42, 43, 49],\n",
       "       [34, 17, 36, 15, 49, 45]])"
      ]
     },
     "execution_count": 176,
     "metadata": {},
     "output_type": "execute_result"
    }
   ],
   "source": [
    "np.append(arr,arr1,axis=1)"
   ]
  },
  {
   "cell_type": "markdown",
   "id": "d164acef-03c3-4ff9-b452-6e483021f87a",
   "metadata": {},
   "source": [
    "# Concatenate"
   ]
  },
  {
   "cell_type": "code",
   "execution_count": 179,
   "id": "b1728cbd-07d0-4eff-8816-55087b1dc344",
   "metadata": {},
   "outputs": [],
   "source": [
    "a11=np.append(arr,arr1,axis=0)  \n",
    "a12=np.append(arr,arr1,axis=1)"
   ]
  },
  {
   "cell_type": "code",
   "execution_count": 191,
   "id": "3f627313-2b48-4522-b024-a31be1694ec4",
   "metadata": {},
   "outputs": [],
   "source": [
    "array1=np.array([2,3,4,5,6])\n",
    "array2=np.array([10,20,30,40,50])"
   ]
  },
  {
   "cell_type": "code",
   "execution_count": 193,
   "id": "bbb84fa3-c3ac-4718-9eb9-a7fd60a50a25",
   "metadata": {},
   "outputs": [
    {
     "data": {
      "text/plain": [
       "array([ 2,  3,  4,  5,  6, 10, 20, 30, 40, 50])"
      ]
     },
     "execution_count": 193,
     "metadata": {},
     "output_type": "execute_result"
    }
   ],
   "source": [
    "np.concatenate([array1,array2],axis=0)"
   ]
  },
  {
   "cell_type": "markdown",
   "id": "c1c9cce2-e227-44e6-8158-899b21b0edc6",
   "metadata": {},
   "source": [
    "# Iter"
   ]
  },
  {
   "cell_type": "code",
   "execution_count": 197,
   "id": "c32e6880-0e28-41e5-98ab-403abca12855",
   "metadata": {},
   "outputs": [
    {
     "name": "stdout",
     "output_type": "stream",
     "text": [
      "2\n",
      "3\n",
      "4\n",
      "5\n",
      "6\n"
     ]
    }
   ],
   "source": [
    "for i in array1:\n",
    "    print(i)"
   ]
  },
  {
   "cell_type": "code",
   "execution_count": 199,
   "id": "f5179b94-85d6-4178-b2a7-bb4c6a579b6e",
   "metadata": {},
   "outputs": [
    {
     "name": "stdout",
     "output_type": "stream",
     "text": [
      "10\n",
      "20\n",
      "30\n",
      "40\n",
      "50\n"
     ]
    }
   ],
   "source": [
    "for i in array2:\n",
    "    print(i)"
   ]
  },
  {
   "cell_type": "markdown",
   "id": "35f7d365-d71f-4f6b-afcf-c9a22222971d",
   "metadata": {},
   "source": [
    "# ndenumerate"
   ]
  },
  {
   "cell_type": "code",
   "execution_count": 209,
   "id": "48fa3a87-92e3-40dc-8892-30c213fec06d",
   "metadata": {},
   "outputs": [
    {
     "name": "stdout",
     "output_type": "stream",
     "text": [
      "(0,) 2\n",
      "(1,) 3\n",
      "(2,) 4\n",
      "(3,) 5\n",
      "(4,) 6\n"
     ]
    }
   ],
   "source": [
    "for i,j in np. ndenumerate (array1):\n",
    "    print(i,j)"
   ]
  },
  {
   "cell_type": "code",
   "execution_count": 212,
   "id": "29f59ce1-c9d4-402a-9d36-36597f29c124",
   "metadata": {},
   "outputs": [
    {
     "data": {
      "text/plain": [
       "<numpy.ndenumerate at 0x1cb75344860>"
      ]
     },
     "execution_count": 212,
     "metadata": {},
     "output_type": "execute_result"
    }
   ],
   "source": [
    "np.ndenumerate(array1)"
   ]
  },
  {
   "cell_type": "code",
   "execution_count": 224,
   "id": "a66f2a03-0f27-416a-9c77-4b0240094bcf",
   "metadata": {},
   "outputs": [
    {
     "data": {
      "text/plain": [
       "array([[0, 0, 0],\n",
       "       [0, 0, 0],\n",
       "       [0, 0, 0]])"
      ]
     },
     "execution_count": 224,
     "metadata": {},
     "output_type": "execute_result"
    }
   ],
   "source": [
    "array1=np.random.randint(0,1, size=[3,3])\n",
    "array1"
   ]
  },
  {
   "cell_type": "code",
   "execution_count": 240,
   "id": "18be2e5d-48ed-4dcc-a8b7-7765e91ccea4",
   "metadata": {},
   "outputs": [
    {
     "data": {
      "text/plain": [
       "(array([1, 3, 4], dtype=int64), array([0, 0, 1], dtype=int64))"
      ]
     },
     "execution_count": 240,
     "metadata": {},
     "output_type": "execute_result"
    }
   ],
   "source": [
    "# Where\n",
    "array=np.array([[2,3],[4,5],[6,7],[4,5],[6,4],[7,8]])\n",
    "a=np.where(array==4)\n",
    "a"
   ]
  },
  {
   "cell_type": "code",
   "execution_count": 242,
   "id": "36781ee0-1671-4912-981c-952a09ba509c",
   "metadata": {},
   "outputs": [
    {
     "data": {
      "text/plain": [
       "4"
      ]
     },
     "execution_count": 242,
     "metadata": {},
     "output_type": "execute_result"
    }
   ],
   "source": [
    "array[1][0]"
   ]
  },
  {
   "cell_type": "code",
   "execution_count": 246,
   "id": "61d02ee5-e289-4e23-a7a4-9899c5ebaded",
   "metadata": {},
   "outputs": [
    {
     "data": {
      "text/plain": [
       "4"
      ]
     },
     "execution_count": 246,
     "metadata": {},
     "output_type": "execute_result"
    }
   ],
   "source": [
    "array[3][0]"
   ]
  },
  {
   "cell_type": "code",
   "execution_count": 248,
   "id": "b67e7be5-8cf4-4144-b2b3-f2fa7cc97e6c",
   "metadata": {},
   "outputs": [
    {
     "data": {
      "text/plain": [
       "6"
      ]
     },
     "execution_count": 248,
     "metadata": {},
     "output_type": "execute_result"
    }
   ],
   "source": [
    "array[4][0]"
   ]
  },
  {
   "cell_type": "code",
   "execution_count": 251,
   "id": "8742102e-bb4d-4ca7-acf1-411823b3b84d",
   "metadata": {},
   "outputs": [
    {
     "data": {
      "text/plain": [
       "66"
      ]
     },
     "execution_count": 251,
     "metadata": {},
     "output_type": "execute_result"
    }
   ],
   "source": [
    "q=np.array([1,2,3,66,45,33,])\n",
    "np.max(q)"
   ]
  },
  {
   "cell_type": "code",
   "execution_count": 253,
   "id": "45869c38-f5ab-4578-8bd9-522ceec65ff2",
   "metadata": {},
   "outputs": [
    {
     "data": {
      "text/plain": [
       "66"
      ]
     },
     "execution_count": 253,
     "metadata": {},
     "output_type": "execute_result"
    }
   ],
   "source": [
    "q=np.array([[1,2,3,66,45,33,]])\n",
    "np.max(q)"
   ]
  },
  {
   "cell_type": "code",
   "execution_count": 255,
   "id": "a78baafd-94d6-4b27-bae4-0355fc140f7c",
   "metadata": {},
   "outputs": [
    {
     "data": {
      "text/plain": [
       "66"
      ]
     },
     "execution_count": 255,
     "metadata": {},
     "output_type": "execute_result"
    }
   ],
   "source": [
    "q=np.array([[1,2,3],[66,45,33]])\n",
    "np.max(q)"
   ]
  },
  {
   "cell_type": "code",
   "execution_count": 257,
   "id": "fe9a74c3-a441-42ee-8e4a-8d48f8c32419",
   "metadata": {},
   "outputs": [
    {
     "data": {
      "text/plain": [
       "1"
      ]
     },
     "execution_count": 257,
     "metadata": {},
     "output_type": "execute_result"
    }
   ],
   "source": [
    "np.min(q)"
   ]
  },
  {
   "cell_type": "code",
   "execution_count": 259,
   "id": "3053aea1-fca8-4f5a-bcba-6def645d76a0",
   "metadata": {},
   "outputs": [
    {
     "data": {
      "text/plain": [
       "66"
      ]
     },
     "execution_count": 259,
     "metadata": {},
     "output_type": "execute_result"
    }
   ],
   "source": [
    "np.max(q)"
   ]
  },
  {
   "cell_type": "code",
   "execution_count": 261,
   "id": "e3c43480-b235-41a4-a366-d7776f3548f3",
   "metadata": {},
   "outputs": [
    {
     "data": {
      "text/plain": [
       "array([[0, 0, 0],\n",
       "       [0, 0, 0],\n",
       "       [0, 0, 0]])"
      ]
     },
     "execution_count": 261,
     "metadata": {},
     "output_type": "execute_result"
    }
   ],
   "source": [
    "np.full([3,3],0)"
   ]
  },
  {
   "cell_type": "code",
   "execution_count": 265,
   "id": "7d8bfa60-91d5-4958-8dbe-c7a11c3372bf",
   "metadata": {},
   "outputs": [
    {
     "data": {
      "text/plain": [
       "array([[30, 30],\n",
       "       [30, 30]])"
      ]
     },
     "execution_count": 265,
     "metadata": {},
     "output_type": "execute_result"
    }
   ],
   "source": [
    "s=np.full([2,2],30)\n",
    "s"
   ]
  },
  {
   "cell_type": "code",
   "execution_count": 273,
   "id": "94491c20-5b58-4206-8d15-89f6e849f598",
   "metadata": {},
   "outputs": [
    {
     "data": {
      "text/plain": [
       "array([[60, 60],\n",
       "       [60, 60]])"
      ]
     },
     "execution_count": 273,
     "metadata": {},
     "output_type": "execute_result"
    }
   ],
   "source": [
    "s1=s*2\n",
    "s1"
   ]
  },
  {
   "cell_type": "code",
   "execution_count": 275,
   "id": "59fa0650-7113-4cc5-8429-92703cc7d874",
   "metadata": {},
   "outputs": [
    {
     "data": {
      "text/plain": [
       "array([[90, 90],\n",
       "       [90, 90]])"
      ]
     },
     "execution_count": 275,
     "metadata": {},
     "output_type": "execute_result"
    }
   ],
   "source": [
    "s+s1"
   ]
  },
  {
   "cell_type": "code",
   "execution_count": 277,
   "id": "ee8b74fd-6304-4d8e-9d91-79c51f9a65a3",
   "metadata": {},
   "outputs": [
    {
     "data": {
      "text/plain": [
       "array([[30, 30, 60, 60],\n",
       "       [30, 30, 60, 60]])"
      ]
     },
     "execution_count": 277,
     "metadata": {},
     "output_type": "execute_result"
    }
   ],
   "source": [
    "np.append(s,s1,axis=1)"
   ]
  },
  {
   "cell_type": "code",
   "execution_count": 279,
   "id": "8970560b-1665-43a6-8065-150702cec70b",
   "metadata": {},
   "outputs": [
    {
     "data": {
      "text/plain": [
       "array([[30, 30],\n",
       "       [30, 30],\n",
       "       [60, 60],\n",
       "       [60, 60]])"
      ]
     },
     "execution_count": 279,
     "metadata": {},
     "output_type": "execute_result"
    }
   ],
   "source": [
    "np.append(s,s1,axis=0)"
   ]
  },
  {
   "cell_type": "code",
   "execution_count": null,
   "id": "16a9aba2-5368-47a9-81f6-3e03cb667436",
   "metadata": {},
   "outputs": [],
   "source": [
    " "
   ]
  }
 ],
 "metadata": {
  "kernelspec": {
   "display_name": "Python 3 (ipykernel)",
   "language": "python",
   "name": "python3"
  },
  "language_info": {
   "codemirror_mode": {
    "name": "ipython",
    "version": 3
   },
   "file_extension": ".py",
   "mimetype": "text/x-python",
   "name": "python",
   "nbconvert_exporter": "python",
   "pygments_lexer": "ipython3",
   "version": "3.12.4"
  }
 },
 "nbformat": 4,
 "nbformat_minor": 5
}
