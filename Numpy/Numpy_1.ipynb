{
 "cells": [
  {
   "cell_type": "code",
   "execution_count": 3,
   "id": "06a11586-9780-47ac-9c6e-e1bd2a8acdd6",
   "metadata": {},
   "outputs": [],
   "source": [
    "import numpy as np"
   ]
  },
  {
   "cell_type": "code",
   "execution_count": 10,
   "id": "7d655660-7b90-48d6-87fe-0f3000ed5573",
   "metadata": {},
   "outputs": [
    {
     "data": {
      "text/plain": [
       "array([1, 2, 3, 4, 5, 6])"
      ]
     },
     "execution_count": 10,
     "metadata": {},
     "output_type": "execute_result"
    }
   ],
   "source": [
    "l1=[1,2,3,4,5,6]   # List\n",
    "a=np.array(l1)\n",
    "a"
   ]
  },
  {
   "cell_type": "code",
   "execution_count": 12,
   "id": "f49fe396-71b6-4011-9ea3-893a90f3f00f",
   "metadata": {},
   "outputs": [
    {
     "data": {
      "text/plain": [
       "array([1, 2, 3, 4, 5, 6])"
      ]
     },
     "execution_count": 12,
     "metadata": {},
     "output_type": "execute_result"
    }
   ],
   "source": [
    "t1=(1,2,3,4,5,6)     # Tuple\n",
    "a=np.array(t1)\n",
    "a"
   ]
  },
  {
   "cell_type": "code",
   "execution_count": 14,
   "id": "7e63aa36-fd53-4f17-a499-6cf078bdc4dc",
   "metadata": {},
   "outputs": [
    {
     "data": {
      "text/plain": [
       "array(' s h r e y a', dtype='<U12')"
      ]
     },
     "execution_count": 14,
     "metadata": {},
     "output_type": "execute_result"
    }
   ],
   "source": [
    "s=\" s h r e y a\"   # string\n",
    "a=np.array(s)\n",
    "a"
   ]
  },
  {
   "cell_type": "code",
   "execution_count": 16,
   "id": "4f9882b6-974e-4f73-8e6c-46449097e783",
   "metadata": {},
   "outputs": [
    {
     "data": {
      "text/plain": [
       "array(4.+8.j)"
      ]
     },
     "execution_count": 16,
     "metadata": {},
     "output_type": "execute_result"
    }
   ],
   "source": [
    "c= 4+8j            # complex\n",
    "a=np.array(c)\n",
    "a"
   ]
  },
  {
   "cell_type": "code",
   "execution_count": 18,
   "id": "b62f3c36-b3bb-46d6-8c11-ec5ef290701a",
   "metadata": {},
   "outputs": [
    {
     "data": {
      "text/plain": [
       "array([ 1.,  2.,  3.,  4., 56.,  6.])"
      ]
     },
     "execution_count": 18,
     "metadata": {},
     "output_type": "execute_result"
    }
   ],
   "source": [
    "# conveted into data types\n",
    "\n",
    "arr1=np.array([1,2,3,4,56,6],dtype=\"float\")\n",
    "arr1"
   ]
  },
  {
   "cell_type": "code",
   "execution_count": 22,
   "id": "ccb3ed9d-5571-4f71-98af-bc3d952d28b4",
   "metadata": {},
   "outputs": [
    {
     "data": {
      "text/plain": [
       "array([ 1,  2,  3,  4, 56,  6])"
      ]
     },
     "execution_count": 22,
     "metadata": {},
     "output_type": "execute_result"
    }
   ],
   "source": [
    "a=np.array([ 1.,  2.,  3.,  4., 56.,  6.],dtype=\"int\")\n",
    "a"
   ]
  },
  {
   "cell_type": "code",
   "execution_count": 26,
   "id": "1f4fe033-16d1-4108-97a1-23a233d40df9",
   "metadata": {},
   "outputs": [
    {
     "data": {
      "text/plain": [
       "array([ 33.,  21.,  44.,  67.,  88., 987.,  66.])"
      ]
     },
     "execution_count": 26,
     "metadata": {},
     "output_type": "execute_result"
    }
   ],
   "source": [
    "l2=[33,21,44,67,88,987,66]\n",
    "z=np.array(l2,dtype=\"float\")\n",
    "z"
   ]
  },
  {
   "cell_type": "code",
   "execution_count": 34,
   "id": "8f06366f-0f7e-4de2-8eb4-f10b308964d5",
   "metadata": {},
   "outputs": [
    {
     "data": {
      "text/plain": [
       "1"
      ]
     },
     "execution_count": 34,
     "metadata": {},
     "output_type": "execute_result"
    }
   ],
   "source": [
    "# to check the dimension indicate the square brackets[[[\n",
    "z.ndim"
   ]
  },
  {
   "cell_type": "code",
   "execution_count": 40,
   "id": "0f1bc3df-9fe3-4985-9823-89f945ff4f2a",
   "metadata": {},
   "outputs": [
    {
     "data": {
      "text/plain": [
       "array([[2, 3],\n",
       "       [1, 3],\n",
       "       [4, 3],\n",
       "       [8, 9]])"
      ]
     },
     "execution_count": 40,
     "metadata": {},
     "output_type": "execute_result"
    }
   ],
   "source": [
    "q1=np.array([[2,3],[1,3],[4,3],[8,9]])\n",
    "q1"
   ]
  },
  {
   "cell_type": "code",
   "execution_count": 42,
   "id": "1bf6b816-fdfc-44a9-add1-1d09f77b94c2",
   "metadata": {},
   "outputs": [
    {
     "data": {
      "text/plain": [
       "2"
      ]
     },
     "execution_count": 42,
     "metadata": {},
     "output_type": "execute_result"
    }
   ],
   "source": [
    "q1.ndim"
   ]
  },
  {
   "cell_type": "code",
   "execution_count": 44,
   "id": "dd2b1116-c8c1-4924-8e24-8fc415369022",
   "metadata": {},
   "outputs": [
    {
     "data": {
      "text/plain": [
       "(4, 2)"
      ]
     },
     "execution_count": 44,
     "metadata": {},
     "output_type": "execute_result"
    }
   ],
   "source": [
    "q1.shape"
   ]
  },
  {
   "cell_type": "code",
   "execution_count": 46,
   "id": "7880a4c5-2dd2-4712-bd00-1e743acd4af6",
   "metadata": {},
   "outputs": [
    {
     "data": {
      "text/plain": [
       "array([[[2, 3],\n",
       "        [1, 3],\n",
       "        [4, 3],\n",
       "        [8, 9]]])"
      ]
     },
     "execution_count": 46,
     "metadata": {},
     "output_type": "execute_result"
    }
   ],
   "source": [
    "q1=np.array([[[2,3],[1,3],[4,3],[8,9]]])\n",
    "q1"
   ]
  },
  {
   "cell_type": "code",
   "execution_count": 48,
   "id": "8f9205f8-6ae9-427b-ba91-4cef72b4371f",
   "metadata": {},
   "outputs": [
    {
     "name": "stdout",
     "output_type": "stream",
     "text": [
      "3\n",
      "(1, 4, 2)\n"
     ]
    }
   ],
   "source": [
    "print(q1.ndim)  \n",
    "print(q1.shape)"
   ]
  },
  {
   "cell_type": "code",
   "execution_count": 52,
   "id": "46bfaecd-4604-42c3-93e6-adfa22fa58d8",
   "metadata": {},
   "outputs": [
    {
     "data": {
      "text/plain": [
       "array([[[2, 3],\n",
       "        [1, 3],\n",
       "        [4, 3],\n",
       "        [8, 9]]])"
      ]
     },
     "execution_count": 52,
     "metadata": {},
     "output_type": "execute_result"
    }
   ],
   "source": [
    "q1"
   ]
  },
  {
   "cell_type": "code",
   "execution_count": 74,
   "id": "02fc6b3b-bba6-4dbe-b84e-b294fd4d38c1",
   "metadata": {},
   "outputs": [
    {
     "data": {
      "text/plain": [
       "array([8, 9])"
      ]
     },
     "execution_count": 74,
     "metadata": {},
     "output_type": "execute_result"
    }
   ],
   "source": [
    "q1[0][3]"
   ]
  },
  {
   "cell_type": "code",
   "execution_count": 78,
   "id": "564f4ad8-dddd-466e-b1bd-42ae98232873",
   "metadata": {},
   "outputs": [
    {
     "data": {
      "text/plain": [
       "array([1, 3])"
      ]
     },
     "execution_count": 78,
     "metadata": {},
     "output_type": "execute_result"
    }
   ],
   "source": [
    "q1[0][1]"
   ]
  },
  {
   "cell_type": "code",
   "execution_count": 68,
   "id": "fb149676-c2fe-42b1-9df8-6af9ce52f167",
   "metadata": {},
   "outputs": [
    {
     "data": {
      "text/plain": [
       "array([[[2, 3],\n",
       "        [1, 3],\n",
       "        [4, 3],\n",
       "        [8, 9]]])"
      ]
     },
     "execution_count": 68,
     "metadata": {},
     "output_type": "execute_result"
    }
   ],
   "source": [
    "q1"
   ]
  },
  {
   "cell_type": "code",
   "execution_count": 97,
   "id": "0c6d37c9-afdb-4780-a914-d89a108bea5c",
   "metadata": {},
   "outputs": [
    {
     "data": {
      "text/plain": [
       "8"
      ]
     },
     "execution_count": 97,
     "metadata": {},
     "output_type": "execute_result"
    }
   ],
   "source": [
    "q1[0][3][0]"
   ]
  },
  {
   "cell_type": "code",
   "execution_count": 105,
   "id": "25682313-447a-4da1-acf0-4be85cc48fd3",
   "metadata": {},
   "outputs": [
    {
     "data": {
      "text/plain": [
       "3"
      ]
     },
     "execution_count": 105,
     "metadata": {},
     "output_type": "execute_result"
    }
   ],
   "source": [
    "q1[0][2][1]"
   ]
  },
  {
   "cell_type": "code",
   "execution_count": 115,
   "id": "231dfea6-350f-4c57-92aa-4ea43aee2a6e",
   "metadata": {},
   "outputs": [],
   "source": [
    "a=np.array([[[2,4, 3],\n",
    "        [1,2, 3],\n",
    "        [4,5, 3],\n",
    "        [8,4, 9]]])"
   ]
  },
  {
   "cell_type": "code",
   "execution_count": 117,
   "id": "fbad602f-23a0-42cf-a7c1-f8fa4efa6129",
   "metadata": {},
   "outputs": [
    {
     "data": {
      "text/plain": [
       "array([[2, 4, 3],\n",
       "       [1, 2, 3],\n",
       "       [4, 5, 3],\n",
       "       [8, 4, 9]])"
      ]
     },
     "execution_count": 117,
     "metadata": {},
     "output_type": "execute_result"
    }
   ],
   "source": [
    "a[0]"
   ]
  },
  {
   "cell_type": "code",
   "execution_count": 129,
   "id": "2855646b-4df2-488b-a605-992173de969f",
   "metadata": {},
   "outputs": [
    {
     "data": {
      "text/plain": [
       "2"
      ]
     },
     "execution_count": 129,
     "metadata": {},
     "output_type": "execute_result"
    }
   ],
   "source": [
    "a[0][2][1]"
   ]
  },
  {
   "cell_type": "code",
   "execution_count": 135,
   "id": "8f5a7cb7-3a82-49ad-aa1c-7fd02289a5ef",
   "metadata": {},
   "outputs": [
    {
     "data": {
      "text/plain": [
       "4"
      ]
     },
     "execution_count": 135,
     "metadata": {},
     "output_type": "execute_result"
    }
   ],
   "source": [
    "a[0][3][1]"
   ]
  },
  {
   "cell_type": "code",
   "execution_count": 139,
   "id": "8eaabd76-1b73-425a-8436-9031ce273dcc",
   "metadata": {},
   "outputs": [
    {
     "data": {
      "text/plain": [
       "3"
      ]
     },
     "execution_count": 139,
     "metadata": {},
     "output_type": "execute_result"
    }
   ],
   "source": [
    "a[0][1][2]"
   ]
  },
  {
   "cell_type": "code",
   "execution_count": 141,
   "id": "5b2c67a4-9262-4456-b55f-919dc2fb158d",
   "metadata": {},
   "outputs": [
    {
     "data": {
      "text/plain": [
       "4"
      ]
     },
     "execution_count": 141,
     "metadata": {},
     "output_type": "execute_result"
    }
   ],
   "source": [
    "a[0][3][1]"
   ]
  },
  {
   "cell_type": "code",
   "execution_count": 147,
   "id": "ddc31ccd-4cea-48ca-8847-e432529e9e8b",
   "metadata": {},
   "outputs": [
    {
     "data": {
      "text/plain": [
       "4"
      ]
     },
     "execution_count": 147,
     "metadata": {},
     "output_type": "execute_result"
    }
   ],
   "source": [
    "a[0][3][1]"
   ]
  },
  {
   "cell_type": "code",
   "execution_count": 149,
   "id": "f8133159-4062-43d2-873b-644d8e9da26c",
   "metadata": {},
   "outputs": [
    {
     "data": {
      "text/plain": [
       "3"
      ]
     },
     "execution_count": 149,
     "metadata": {},
     "output_type": "execute_result"
    }
   ],
   "source": [
    "a[0][0][2]"
   ]
  },
  {
   "cell_type": "code",
   "execution_count": 151,
   "id": "c611a957-2523-4030-a696-24c4f89550d8",
   "metadata": {},
   "outputs": [
    {
     "data": {
      "text/plain": [
       "3"
      ]
     },
     "execution_count": 151,
     "metadata": {},
     "output_type": "execute_result"
    }
   ],
   "source": [
    "a[0][1][2]"
   ]
  },
  {
   "cell_type": "code",
   "execution_count": 153,
   "id": "04803ffb-4c48-47f3-bb2a-793c1f61b59c",
   "metadata": {},
   "outputs": [
    {
     "data": {
      "text/plain": [
       "array([1, 2, 3])"
      ]
     },
     "execution_count": 153,
     "metadata": {},
     "output_type": "execute_result"
    }
   ],
   "source": [
    "a[0][1]"
   ]
  },
  {
   "cell_type": "code",
   "execution_count": 157,
   "id": "dfe6ea94-dee8-48d5-9d01-2c6f71483d5b",
   "metadata": {},
   "outputs": [
    {
     "data": {
      "text/plain": [
       "array([4, 5, 3])"
      ]
     },
     "execution_count": 157,
     "metadata": {},
     "output_type": "execute_result"
    }
   ],
   "source": [
    "a[0][2]"
   ]
  },
  {
   "cell_type": "code",
   "execution_count": 159,
   "id": "59dbf165-adec-4e13-8b2b-a759ba6a8c4f",
   "metadata": {},
   "outputs": [
    {
     "data": {
      "text/plain": [
       "array([8, 4, 9])"
      ]
     },
     "execution_count": 159,
     "metadata": {},
     "output_type": "execute_result"
    }
   ],
   "source": [
    "a[0][3]"
   ]
  },
  {
   "cell_type": "code",
   "execution_count": 163,
   "id": "19e5cdda-bb82-4002-86aa-5cac30527b6b",
   "metadata": {},
   "outputs": [
    {
     "data": {
      "text/plain": [
       "array([2, 4, 3])"
      ]
     },
     "execution_count": 163,
     "metadata": {},
     "output_type": "execute_result"
    }
   ],
   "source": [
    "a[0][0]"
   ]
  },
  {
   "cell_type": "code",
   "execution_count": 165,
   "id": "35ca113c-9f1d-46da-94a3-7659897fb505",
   "metadata": {},
   "outputs": [
    {
     "data": {
      "text/plain": [
       "4"
      ]
     },
     "execution_count": 165,
     "metadata": {},
     "output_type": "execute_result"
    }
   ],
   "source": [
    "a[0][0][1]"
   ]
  },
  {
   "cell_type": "code",
   "execution_count": 167,
   "id": "2e45ab82-2659-4b73-8676-6bfdf4bc4d96",
   "metadata": {},
   "outputs": [
    {
     "data": {
      "text/plain": [
       "array([[[2, 4, 3],\n",
       "        [1, 2, 3],\n",
       "        [4, 5, 3],\n",
       "        [8, 4, 9]]])"
      ]
     },
     "execution_count": 167,
     "metadata": {},
     "output_type": "execute_result"
    }
   ],
   "source": [
    "a"
   ]
  },
  {
   "cell_type": "code",
   "execution_count": 175,
   "id": "c7ef31ca-5549-47c8-9177-6f0bae33cdbe",
   "metadata": {},
   "outputs": [
    {
     "data": {
      "text/plain": [
       "1"
      ]
     },
     "execution_count": 175,
     "metadata": {},
     "output_type": "execute_result"
    }
   ],
   "source": [
    "a[0][1][0]"
   ]
  },
  {
   "cell_type": "code",
   "execution_count": 177,
   "id": "6764f35d-9d97-45a8-a131-3f2201b154cb",
   "metadata": {},
   "outputs": [
    {
     "data": {
      "text/plain": [
       "array([[1, 2],\n",
       "       [2, 3],\n",
       "       [4, 5]])"
      ]
     },
     "execution_count": 177,
     "metadata": {},
     "output_type": "execute_result"
    }
   ],
   "source": [
    "b=np.array([[1,2],[2,3],[4,5]])\n",
    "b"
   ]
  },
  {
   "cell_type": "code",
   "execution_count": 181,
   "id": "95fad1cf-3a1a-42d3-a52e-247f4af26c08",
   "metadata": {},
   "outputs": [
    {
     "data": {
      "text/plain": [
       "array([1, 2])"
      ]
     },
     "execution_count": 181,
     "metadata": {},
     "output_type": "execute_result"
    }
   ],
   "source": [
    "b[0]"
   ]
  },
  {
   "cell_type": "code",
   "execution_count": 183,
   "id": "4a5b9d1a-65f3-48cc-9f2f-704a2f4a41d3",
   "metadata": {},
   "outputs": [
    {
     "data": {
      "text/plain": [
       "array([2, 3])"
      ]
     },
     "execution_count": 183,
     "metadata": {},
     "output_type": "execute_result"
    }
   ],
   "source": [
    "b[1]"
   ]
  },
  {
   "cell_type": "code",
   "execution_count": 185,
   "id": "5928c127-384c-49fd-b8c1-993ee20a0cc3",
   "metadata": {},
   "outputs": [
    {
     "data": {
      "text/plain": [
       "array([4, 5])"
      ]
     },
     "execution_count": 185,
     "metadata": {},
     "output_type": "execute_result"
    }
   ],
   "source": [
    "b[2]"
   ]
  },
  {
   "cell_type": "code",
   "execution_count": 187,
   "id": "482c23b6-1e01-450a-8c0c-1769b2e67eb2",
   "metadata": {},
   "outputs": [
    {
     "data": {
      "text/plain": [
       "4"
      ]
     },
     "execution_count": 187,
     "metadata": {},
     "output_type": "execute_result"
    }
   ],
   "source": [
    "b[2][0]"
   ]
  },
  {
   "cell_type": "code",
   "execution_count": 189,
   "id": "c54e74df-911b-4ffc-a649-083b1340a541",
   "metadata": {},
   "outputs": [
    {
     "data": {
      "text/plain": [
       "3"
      ]
     },
     "execution_count": 189,
     "metadata": {},
     "output_type": "execute_result"
    }
   ],
   "source": [
    "b[1][1]"
   ]
  },
  {
   "cell_type": "code",
   "execution_count": null,
   "id": "3dc88b28-2d58-4823-86ca-c6837acbb7d3",
   "metadata": {},
   "outputs": [],
   "source": []
  }
 ],
 "metadata": {
  "kernelspec": {
   "display_name": "Python 3 (ipykernel)",
   "language": "python",
   "name": "python3"
  },
  "language_info": {
   "codemirror_mode": {
    "name": "ipython",
    "version": 3
   },
   "file_extension": ".py",
   "mimetype": "text/x-python",
   "name": "python",
   "nbconvert_exporter": "python",
   "pygments_lexer": "ipython3",
   "version": "3.12.4"
  }
 },
 "nbformat": 4,
 "nbformat_minor": 5
}
